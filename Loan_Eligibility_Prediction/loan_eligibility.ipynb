{
 "cells": [
  {
   "cell_type": "markdown",
   "metadata": {},
   "source": [
    "## Loan eligibility prediction\n",
    "### Features Description:\n",
    "\n",
    "- **ID:** Unique identifier for each loan record.\n",
    "- **year:** Year of loan issuance.\n",
    "- **loan_limit:** Loan limit category.\n",
    "- **Gender:** Loan applicant gender.\n",
    "- **approv_in_adv:** Indicates whether the loan has been pre-approved.\n",
    "- **loan_type:** Type of loan.\n",
    "- **loan_purpose:** Purpose of the loan.\n",
    "- **Credit_Worthiness:** The extent to which a person or company is considered suitable for receiving financial credit is often based on its reliability in repaying money in the past.\n",
    "- **open_credit:** Indicates whether the applicant has other open credits.\n",
    "- **business_or_commercial:** Whether the loan is for business or commercial.\n",
    "- **loan_amount:** Total loan amount.\n",
    "- **rate_of_interest:** Loan interest rate.\n",
    "- **Interest_rate_spread:** Interest rate differential relative to a benchmark index.\n",
    "- **Upfront_charges:** Initial charges for the loan.\n",
    "- **term:** Loan duration in months.\n",
    "- **Neg_ammortization:** Indicates whether there is negative amortization.\n",
    "- **interest_only:** Whether the loan allows for interest-only payments.\n",
    "- **lump_sum_payment:** Indicates whether there is an option to pay in a single installment.\n",
    "- **property_value:** Value of the property associated with the loan.\n",
    "- **construction_type:** Type of construction of the property.\n",
    "- **occupancy_type:** Type of property occupancy.\n",
    "- **Secured_by:** Type of loan guarantee.\n",
    "- **total_units:** Number of units related to the loan.\n",
    "- **income:** Loan applicant's income.\n",
    "- **credit_type:** Type of credit check used.\n",
    "- **Credit_Score:** Applicant's credit score.\n",
    "- **co-applicant_credit_type:** Type of credit check for co-applicants.\n",
    "- **age:** Age range of the applicant.\n",
    "- **submission_of_application:** Loan application submission method.\n",
    "- **LTV (Loan to Value):** Ratio of loan amount to property value.\n",
    "- **Region:** Geographic region of the loan.\n",
    "- **Security_Type:** Type of loan security.\n",
    "- **Status:** Loan Status (1 loan granted, 0 not granted)\n",
    "- **dtir1 (Debt to Income Ratio):** Debt/income ratio of the applicant.\n"
   ]
  },
  {
   "cell_type": "code",
   "execution_count": 45,
   "metadata": {},
   "outputs": [],
   "source": [
    "# importing libraries\n",
    "import pandas as pd\n",
    "import numpy as np\n",
    "import matplotlib.pyplot as plt\n",
    "import seaborn as sb\n",
    "import missingno as msno\n",
    "from sklearn.impute import SimpleImputer"
   ]
  },
  {
   "cell_type": "code",
   "execution_count": 46,
   "metadata": {},
   "outputs": [],
   "source": [
    "df = pd.read_csv(\"Loan.csv\")"
   ]
  },
  {
   "cell_type": "code",
   "execution_count": 47,
   "metadata": {},
   "outputs": [
    {
     "data": {
      "text/html": [
       "<div>\n",
       "<style scoped>\n",
       "    .dataframe tbody tr th:only-of-type {\n",
       "        vertical-align: middle;\n",
       "    }\n",
       "\n",
       "    .dataframe tbody tr th {\n",
       "        vertical-align: top;\n",
       "    }\n",
       "\n",
       "    .dataframe thead th {\n",
       "        text-align: right;\n",
       "    }\n",
       "</style>\n",
       "<table border=\"1\" class=\"dataframe\">\n",
       "  <thead>\n",
       "    <tr style=\"text-align: right;\">\n",
       "      <th></th>\n",
       "      <th>ID</th>\n",
       "      <th>year</th>\n",
       "      <th>loan_limit</th>\n",
       "      <th>Gender</th>\n",
       "      <th>approv_in_adv</th>\n",
       "      <th>loan_type</th>\n",
       "      <th>loan_purpose</th>\n",
       "      <th>Credit_Worthiness</th>\n",
       "      <th>open_credit</th>\n",
       "      <th>business_or_commercial</th>\n",
       "      <th>...</th>\n",
       "      <th>credit_type</th>\n",
       "      <th>Credit_Score</th>\n",
       "      <th>co-applicant_credit_type</th>\n",
       "      <th>age</th>\n",
       "      <th>submission_of_application</th>\n",
       "      <th>LTV</th>\n",
       "      <th>Region</th>\n",
       "      <th>Security_Type</th>\n",
       "      <th>Status</th>\n",
       "      <th>dtir1</th>\n",
       "    </tr>\n",
       "  </thead>\n",
       "  <tbody>\n",
       "    <tr>\n",
       "      <th>0</th>\n",
       "      <td>24890</td>\n",
       "      <td>2019</td>\n",
       "      <td>cf</td>\n",
       "      <td>Sex Not Available</td>\n",
       "      <td>nopre</td>\n",
       "      <td>type1</td>\n",
       "      <td>p1</td>\n",
       "      <td>l1</td>\n",
       "      <td>nopc</td>\n",
       "      <td>nob/c</td>\n",
       "      <td>...</td>\n",
       "      <td>EXP</td>\n",
       "      <td>758</td>\n",
       "      <td>CIB</td>\n",
       "      <td>25-34</td>\n",
       "      <td>to_inst</td>\n",
       "      <td>98.728814</td>\n",
       "      <td>south</td>\n",
       "      <td>direct</td>\n",
       "      <td>1</td>\n",
       "      <td>45.0</td>\n",
       "    </tr>\n",
       "    <tr>\n",
       "      <th>1</th>\n",
       "      <td>24891</td>\n",
       "      <td>2019</td>\n",
       "      <td>cf</td>\n",
       "      <td>Male</td>\n",
       "      <td>nopre</td>\n",
       "      <td>type2</td>\n",
       "      <td>p1</td>\n",
       "      <td>l1</td>\n",
       "      <td>nopc</td>\n",
       "      <td>b/c</td>\n",
       "      <td>...</td>\n",
       "      <td>EQUI</td>\n",
       "      <td>552</td>\n",
       "      <td>EXP</td>\n",
       "      <td>55-64</td>\n",
       "      <td>to_inst</td>\n",
       "      <td>NaN</td>\n",
       "      <td>North</td>\n",
       "      <td>direct</td>\n",
       "      <td>1</td>\n",
       "      <td>NaN</td>\n",
       "    </tr>\n",
       "    <tr>\n",
       "      <th>2</th>\n",
       "      <td>24892</td>\n",
       "      <td>2019</td>\n",
       "      <td>cf</td>\n",
       "      <td>Male</td>\n",
       "      <td>pre</td>\n",
       "      <td>type1</td>\n",
       "      <td>p1</td>\n",
       "      <td>l1</td>\n",
       "      <td>nopc</td>\n",
       "      <td>nob/c</td>\n",
       "      <td>...</td>\n",
       "      <td>EXP</td>\n",
       "      <td>834</td>\n",
       "      <td>CIB</td>\n",
       "      <td>35-44</td>\n",
       "      <td>to_inst</td>\n",
       "      <td>80.019685</td>\n",
       "      <td>south</td>\n",
       "      <td>direct</td>\n",
       "      <td>0</td>\n",
       "      <td>46.0</td>\n",
       "    </tr>\n",
       "    <tr>\n",
       "      <th>3</th>\n",
       "      <td>24893</td>\n",
       "      <td>2019</td>\n",
       "      <td>cf</td>\n",
       "      <td>Male</td>\n",
       "      <td>nopre</td>\n",
       "      <td>type1</td>\n",
       "      <td>p4</td>\n",
       "      <td>l1</td>\n",
       "      <td>nopc</td>\n",
       "      <td>nob/c</td>\n",
       "      <td>...</td>\n",
       "      <td>EXP</td>\n",
       "      <td>587</td>\n",
       "      <td>CIB</td>\n",
       "      <td>45-54</td>\n",
       "      <td>not_inst</td>\n",
       "      <td>69.376900</td>\n",
       "      <td>North</td>\n",
       "      <td>direct</td>\n",
       "      <td>0</td>\n",
       "      <td>42.0</td>\n",
       "    </tr>\n",
       "    <tr>\n",
       "      <th>4</th>\n",
       "      <td>24894</td>\n",
       "      <td>2019</td>\n",
       "      <td>cf</td>\n",
       "      <td>Joint</td>\n",
       "      <td>pre</td>\n",
       "      <td>type1</td>\n",
       "      <td>p1</td>\n",
       "      <td>l1</td>\n",
       "      <td>nopc</td>\n",
       "      <td>nob/c</td>\n",
       "      <td>...</td>\n",
       "      <td>CRIF</td>\n",
       "      <td>602</td>\n",
       "      <td>EXP</td>\n",
       "      <td>25-34</td>\n",
       "      <td>not_inst</td>\n",
       "      <td>91.886544</td>\n",
       "      <td>North</td>\n",
       "      <td>direct</td>\n",
       "      <td>0</td>\n",
       "      <td>39.0</td>\n",
       "    </tr>\n",
       "  </tbody>\n",
       "</table>\n",
       "<p>5 rows × 34 columns</p>\n",
       "</div>"
      ],
      "text/plain": [
       "      ID  year loan_limit             Gender approv_in_adv loan_type  \\\n",
       "0  24890  2019         cf  Sex Not Available         nopre     type1   \n",
       "1  24891  2019         cf               Male         nopre     type2   \n",
       "2  24892  2019         cf               Male           pre     type1   \n",
       "3  24893  2019         cf               Male         nopre     type1   \n",
       "4  24894  2019         cf              Joint           pre     type1   \n",
       "\n",
       "  loan_purpose Credit_Worthiness open_credit business_or_commercial  ...  \\\n",
       "0           p1                l1        nopc                  nob/c  ...   \n",
       "1           p1                l1        nopc                    b/c  ...   \n",
       "2           p1                l1        nopc                  nob/c  ...   \n",
       "3           p4                l1        nopc                  nob/c  ...   \n",
       "4           p1                l1        nopc                  nob/c  ...   \n",
       "\n",
       "   credit_type  Credit_Score  co-applicant_credit_type    age  \\\n",
       "0          EXP           758                       CIB  25-34   \n",
       "1         EQUI           552                       EXP  55-64   \n",
       "2          EXP           834                       CIB  35-44   \n",
       "3          EXP           587                       CIB  45-54   \n",
       "4         CRIF           602                       EXP  25-34   \n",
       "\n",
       "   submission_of_application        LTV Region Security_Type  Status dtir1  \n",
       "0                    to_inst  98.728814  south        direct       1  45.0  \n",
       "1                    to_inst        NaN  North        direct       1   NaN  \n",
       "2                    to_inst  80.019685  south        direct       0  46.0  \n",
       "3                   not_inst  69.376900  North        direct       0  42.0  \n",
       "4                   not_inst  91.886544  North        direct       0  39.0  \n",
       "\n",
       "[5 rows x 34 columns]"
      ]
     },
     "execution_count": 47,
     "metadata": {},
     "output_type": "execute_result"
    }
   ],
   "source": [
    "df.head()"
   ]
  },
  {
   "cell_type": "code",
   "execution_count": 48,
   "metadata": {},
   "outputs": [
    {
     "name": "stdout",
     "output_type": "stream",
     "text": [
      "<class 'pandas.core.frame.DataFrame'>\n",
      "RangeIndex: 148670 entries, 0 to 148669\n",
      "Data columns (total 34 columns):\n",
      " #   Column                     Non-Null Count   Dtype  \n",
      "---  ------                     --------------   -----  \n",
      " 0   ID                         148670 non-null  int64  \n",
      " 1   year                       148670 non-null  int64  \n",
      " 2   loan_limit                 145326 non-null  object \n",
      " 3   Gender                     148670 non-null  object \n",
      " 4   approv_in_adv              147762 non-null  object \n",
      " 5   loan_type                  148670 non-null  object \n",
      " 6   loan_purpose               148536 non-null  object \n",
      " 7   Credit_Worthiness          148670 non-null  object \n",
      " 8   open_credit                148670 non-null  object \n",
      " 9   business_or_commercial     148670 non-null  object \n",
      " 10  loan_amount                148670 non-null  int64  \n",
      " 11  rate_of_interest           112231 non-null  float64\n",
      " 12  Interest_rate_spread       112031 non-null  float64\n",
      " 13  Upfront_charges            109028 non-null  float64\n",
      " 14  term                       148629 non-null  float64\n",
      " 15  Neg_ammortization          148549 non-null  object \n",
      " 16  interest_only              148670 non-null  object \n",
      " 17  lump_sum_payment           148670 non-null  object \n",
      " 18  property_value             133572 non-null  float64\n",
      " 19  construction_type          148670 non-null  object \n",
      " 20  occupancy_type             148670 non-null  object \n",
      " 21  Secured_by                 148670 non-null  object \n",
      " 22  total_units                148670 non-null  object \n",
      " 23  income                     139520 non-null  float64\n",
      " 24  credit_type                148670 non-null  object \n",
      " 25  Credit_Score               148670 non-null  int64  \n",
      " 26  co-applicant_credit_type   148670 non-null  object \n",
      " 27  age                        148470 non-null  object \n",
      " 28  submission_of_application  148470 non-null  object \n",
      " 29  LTV                        133572 non-null  float64\n",
      " 30  Region                     148670 non-null  object \n",
      " 31  Security_Type              148670 non-null  object \n",
      " 32  Status                     148670 non-null  int64  \n",
      " 33  dtir1                      124549 non-null  float64\n",
      "dtypes: float64(8), int64(5), object(21)\n",
      "memory usage: 38.6+ MB\n"
     ]
    }
   ],
   "source": [
    "# Data summary\n",
    "df.info()"
   ]
  },
  {
   "cell_type": "code",
   "execution_count": 49,
   "metadata": {},
   "outputs": [
    {
     "data": {
      "text/plain": [
       "(148670, 34)"
      ]
     },
     "execution_count": 49,
     "metadata": {},
     "output_type": "execute_result"
    }
   ],
   "source": [
    "# Data shape\n",
    "df.shape"
   ]
  },
  {
   "cell_type": "code",
   "execution_count": 50,
   "metadata": {},
   "outputs": [
    {
     "data": {
      "text/html": [
       "<div>\n",
       "<style scoped>\n",
       "    .dataframe tbody tr th:only-of-type {\n",
       "        vertical-align: middle;\n",
       "    }\n",
       "\n",
       "    .dataframe tbody tr th {\n",
       "        vertical-align: top;\n",
       "    }\n",
       "\n",
       "    .dataframe thead th {\n",
       "        text-align: right;\n",
       "    }\n",
       "</style>\n",
       "<table border=\"1\" class=\"dataframe\">\n",
       "  <thead>\n",
       "    <tr style=\"text-align: right;\">\n",
       "      <th></th>\n",
       "      <th>ID</th>\n",
       "      <th>year</th>\n",
       "      <th>loan_amount</th>\n",
       "      <th>rate_of_interest</th>\n",
       "      <th>Interest_rate_spread</th>\n",
       "      <th>Upfront_charges</th>\n",
       "      <th>term</th>\n",
       "      <th>property_value</th>\n",
       "      <th>income</th>\n",
       "      <th>Credit_Score</th>\n",
       "      <th>LTV</th>\n",
       "      <th>Status</th>\n",
       "      <th>dtir1</th>\n",
       "    </tr>\n",
       "  </thead>\n",
       "  <tbody>\n",
       "    <tr>\n",
       "      <th>count</th>\n",
       "      <td>148670.000000</td>\n",
       "      <td>148670.0</td>\n",
       "      <td>1.486700e+05</td>\n",
       "      <td>112231.000000</td>\n",
       "      <td>112031.000000</td>\n",
       "      <td>109028.000000</td>\n",
       "      <td>148629.000000</td>\n",
       "      <td>1.335720e+05</td>\n",
       "      <td>139520.000000</td>\n",
       "      <td>148670.000000</td>\n",
       "      <td>133572.000000</td>\n",
       "      <td>148670.000000</td>\n",
       "      <td>124549.000000</td>\n",
       "    </tr>\n",
       "    <tr>\n",
       "      <th>mean</th>\n",
       "      <td>99224.500000</td>\n",
       "      <td>2019.0</td>\n",
       "      <td>3.311177e+05</td>\n",
       "      <td>4.045476</td>\n",
       "      <td>0.441656</td>\n",
       "      <td>3224.996127</td>\n",
       "      <td>335.136582</td>\n",
       "      <td>4.978935e+05</td>\n",
       "      <td>6957.338876</td>\n",
       "      <td>699.789103</td>\n",
       "      <td>72.746457</td>\n",
       "      <td>0.246445</td>\n",
       "      <td>37.732932</td>\n",
       "    </tr>\n",
       "    <tr>\n",
       "      <th>std</th>\n",
       "      <td>42917.476598</td>\n",
       "      <td>0.0</td>\n",
       "      <td>1.839093e+05</td>\n",
       "      <td>0.561391</td>\n",
       "      <td>0.513043</td>\n",
       "      <td>3251.121510</td>\n",
       "      <td>58.409084</td>\n",
       "      <td>3.599353e+05</td>\n",
       "      <td>6496.586382</td>\n",
       "      <td>115.875857</td>\n",
       "      <td>39.967603</td>\n",
       "      <td>0.430942</td>\n",
       "      <td>10.545435</td>\n",
       "    </tr>\n",
       "    <tr>\n",
       "      <th>min</th>\n",
       "      <td>24890.000000</td>\n",
       "      <td>2019.0</td>\n",
       "      <td>1.650000e+04</td>\n",
       "      <td>0.000000</td>\n",
       "      <td>-3.638000</td>\n",
       "      <td>0.000000</td>\n",
       "      <td>96.000000</td>\n",
       "      <td>8.000000e+03</td>\n",
       "      <td>0.000000</td>\n",
       "      <td>500.000000</td>\n",
       "      <td>0.967478</td>\n",
       "      <td>0.000000</td>\n",
       "      <td>5.000000</td>\n",
       "    </tr>\n",
       "    <tr>\n",
       "      <th>25%</th>\n",
       "      <td>62057.250000</td>\n",
       "      <td>2019.0</td>\n",
       "      <td>1.965000e+05</td>\n",
       "      <td>3.625000</td>\n",
       "      <td>0.076000</td>\n",
       "      <td>581.490000</td>\n",
       "      <td>360.000000</td>\n",
       "      <td>2.680000e+05</td>\n",
       "      <td>3720.000000</td>\n",
       "      <td>599.000000</td>\n",
       "      <td>60.474860</td>\n",
       "      <td>0.000000</td>\n",
       "      <td>31.000000</td>\n",
       "    </tr>\n",
       "    <tr>\n",
       "      <th>50%</th>\n",
       "      <td>99224.500000</td>\n",
       "      <td>2019.0</td>\n",
       "      <td>2.965000e+05</td>\n",
       "      <td>3.990000</td>\n",
       "      <td>0.390400</td>\n",
       "      <td>2596.450000</td>\n",
       "      <td>360.000000</td>\n",
       "      <td>4.180000e+05</td>\n",
       "      <td>5760.000000</td>\n",
       "      <td>699.000000</td>\n",
       "      <td>75.135870</td>\n",
       "      <td>0.000000</td>\n",
       "      <td>39.000000</td>\n",
       "    </tr>\n",
       "    <tr>\n",
       "      <th>75%</th>\n",
       "      <td>136391.750000</td>\n",
       "      <td>2019.0</td>\n",
       "      <td>4.365000e+05</td>\n",
       "      <td>4.375000</td>\n",
       "      <td>0.775400</td>\n",
       "      <td>4812.500000</td>\n",
       "      <td>360.000000</td>\n",
       "      <td>6.280000e+05</td>\n",
       "      <td>8520.000000</td>\n",
       "      <td>800.000000</td>\n",
       "      <td>86.184211</td>\n",
       "      <td>0.000000</td>\n",
       "      <td>45.000000</td>\n",
       "    </tr>\n",
       "    <tr>\n",
       "      <th>max</th>\n",
       "      <td>173559.000000</td>\n",
       "      <td>2019.0</td>\n",
       "      <td>3.576500e+06</td>\n",
       "      <td>8.000000</td>\n",
       "      <td>3.357000</td>\n",
       "      <td>60000.000000</td>\n",
       "      <td>360.000000</td>\n",
       "      <td>1.650800e+07</td>\n",
       "      <td>578580.000000</td>\n",
       "      <td>900.000000</td>\n",
       "      <td>7831.250000</td>\n",
       "      <td>1.000000</td>\n",
       "      <td>61.000000</td>\n",
       "    </tr>\n",
       "  </tbody>\n",
       "</table>\n",
       "</div>"
      ],
      "text/plain": [
       "                  ID      year   loan_amount  rate_of_interest  \\\n",
       "count  148670.000000  148670.0  1.486700e+05     112231.000000   \n",
       "mean    99224.500000    2019.0  3.311177e+05          4.045476   \n",
       "std     42917.476598       0.0  1.839093e+05          0.561391   \n",
       "min     24890.000000    2019.0  1.650000e+04          0.000000   \n",
       "25%     62057.250000    2019.0  1.965000e+05          3.625000   \n",
       "50%     99224.500000    2019.0  2.965000e+05          3.990000   \n",
       "75%    136391.750000    2019.0  4.365000e+05          4.375000   \n",
       "max    173559.000000    2019.0  3.576500e+06          8.000000   \n",
       "\n",
       "       Interest_rate_spread  Upfront_charges           term  property_value  \\\n",
       "count         112031.000000    109028.000000  148629.000000    1.335720e+05   \n",
       "mean               0.441656      3224.996127     335.136582    4.978935e+05   \n",
       "std                0.513043      3251.121510      58.409084    3.599353e+05   \n",
       "min               -3.638000         0.000000      96.000000    8.000000e+03   \n",
       "25%                0.076000       581.490000     360.000000    2.680000e+05   \n",
       "50%                0.390400      2596.450000     360.000000    4.180000e+05   \n",
       "75%                0.775400      4812.500000     360.000000    6.280000e+05   \n",
       "max                3.357000     60000.000000     360.000000    1.650800e+07   \n",
       "\n",
       "              income   Credit_Score            LTV         Status  \\\n",
       "count  139520.000000  148670.000000  133572.000000  148670.000000   \n",
       "mean     6957.338876     699.789103      72.746457       0.246445   \n",
       "std      6496.586382     115.875857      39.967603       0.430942   \n",
       "min         0.000000     500.000000       0.967478       0.000000   \n",
       "25%      3720.000000     599.000000      60.474860       0.000000   \n",
       "50%      5760.000000     699.000000      75.135870       0.000000   \n",
       "75%      8520.000000     800.000000      86.184211       0.000000   \n",
       "max    578580.000000     900.000000    7831.250000       1.000000   \n",
       "\n",
       "               dtir1  \n",
       "count  124549.000000  \n",
       "mean       37.732932  \n",
       "std        10.545435  \n",
       "min         5.000000  \n",
       "25%        31.000000  \n",
       "50%        39.000000  \n",
       "75%        45.000000  \n",
       "max        61.000000  "
      ]
     },
     "execution_count": 50,
     "metadata": {},
     "output_type": "execute_result"
    }
   ],
   "source": [
    "# statistics\n",
    "df.describe()"
   ]
  },
  {
   "cell_type": "markdown",
   "metadata": {},
   "source": [
    "Credit factors according to Forbes.com https://www.forbes.com/advisor/personal-loans/personal-loan-requirements/\n",
    "\n",
    "- Credit Score and History\n",
    "- Income\n",
    "- Debt-to-income Ratio\n",
    "- Collateral\n",
    "- Origination Fee"
   ]
  },
  {
   "cell_type": "code",
   "execution_count": 51,
   "metadata": {},
   "outputs": [],
   "source": [
    "# Excluding features\n",
    "df.drop(['ID' , 'year' , 'loan_limit','Gender', 'approv_in_adv','loan_type', 'loan_purpose', 'Credit_Worthiness','open_credit',\n",
    "        'business_or_commercial', 'rate_of_interest', 'Interest_rate_spread', 'Neg_ammortization', 'interest_only',\n",
    "        'lump_sum_payment', 'construction_type', 'occupancy_type', 'Secured_by', 'total_units', 'credit_type',\n",
    "        'co-applicant_credit_type', 'submission_of_application', 'Region', 'Security_Type'], axis = 1, inplace = True)"
   ]
  },
  {
   "cell_type": "code",
   "execution_count": 52,
   "metadata": {},
   "outputs": [
    {
     "data": {
      "text/html": [
       "<div>\n",
       "<style scoped>\n",
       "    .dataframe tbody tr th:only-of-type {\n",
       "        vertical-align: middle;\n",
       "    }\n",
       "\n",
       "    .dataframe tbody tr th {\n",
       "        vertical-align: top;\n",
       "    }\n",
       "\n",
       "    .dataframe thead th {\n",
       "        text-align: right;\n",
       "    }\n",
       "</style>\n",
       "<table border=\"1\" class=\"dataframe\">\n",
       "  <thead>\n",
       "    <tr style=\"text-align: right;\">\n",
       "      <th></th>\n",
       "      <th>loan_amount</th>\n",
       "      <th>Upfront_charges</th>\n",
       "      <th>term</th>\n",
       "      <th>property_value</th>\n",
       "      <th>income</th>\n",
       "      <th>Credit_Score</th>\n",
       "      <th>age</th>\n",
       "      <th>LTV</th>\n",
       "      <th>Status</th>\n",
       "      <th>dtir1</th>\n",
       "    </tr>\n",
       "  </thead>\n",
       "  <tbody>\n",
       "    <tr>\n",
       "      <th>0</th>\n",
       "      <td>116500</td>\n",
       "      <td>NaN</td>\n",
       "      <td>360.0</td>\n",
       "      <td>118000.0</td>\n",
       "      <td>1740.0</td>\n",
       "      <td>758</td>\n",
       "      <td>25-34</td>\n",
       "      <td>98.728814</td>\n",
       "      <td>1</td>\n",
       "      <td>45.0</td>\n",
       "    </tr>\n",
       "    <tr>\n",
       "      <th>1</th>\n",
       "      <td>206500</td>\n",
       "      <td>NaN</td>\n",
       "      <td>360.0</td>\n",
       "      <td>NaN</td>\n",
       "      <td>4980.0</td>\n",
       "      <td>552</td>\n",
       "      <td>55-64</td>\n",
       "      <td>NaN</td>\n",
       "      <td>1</td>\n",
       "      <td>NaN</td>\n",
       "    </tr>\n",
       "    <tr>\n",
       "      <th>2</th>\n",
       "      <td>406500</td>\n",
       "      <td>595.0</td>\n",
       "      <td>360.0</td>\n",
       "      <td>508000.0</td>\n",
       "      <td>9480.0</td>\n",
       "      <td>834</td>\n",
       "      <td>35-44</td>\n",
       "      <td>80.019685</td>\n",
       "      <td>0</td>\n",
       "      <td>46.0</td>\n",
       "    </tr>\n",
       "    <tr>\n",
       "      <th>3</th>\n",
       "      <td>456500</td>\n",
       "      <td>NaN</td>\n",
       "      <td>360.0</td>\n",
       "      <td>658000.0</td>\n",
       "      <td>11880.0</td>\n",
       "      <td>587</td>\n",
       "      <td>45-54</td>\n",
       "      <td>69.376900</td>\n",
       "      <td>0</td>\n",
       "      <td>42.0</td>\n",
       "    </tr>\n",
       "    <tr>\n",
       "      <th>4</th>\n",
       "      <td>696500</td>\n",
       "      <td>0.0</td>\n",
       "      <td>360.0</td>\n",
       "      <td>758000.0</td>\n",
       "      <td>10440.0</td>\n",
       "      <td>602</td>\n",
       "      <td>25-34</td>\n",
       "      <td>91.886544</td>\n",
       "      <td>0</td>\n",
       "      <td>39.0</td>\n",
       "    </tr>\n",
       "  </tbody>\n",
       "</table>\n",
       "</div>"
      ],
      "text/plain": [
       "   loan_amount  Upfront_charges   term  property_value   income  Credit_Score  \\\n",
       "0       116500              NaN  360.0        118000.0   1740.0           758   \n",
       "1       206500              NaN  360.0             NaN   4980.0           552   \n",
       "2       406500            595.0  360.0        508000.0   9480.0           834   \n",
       "3       456500              NaN  360.0        658000.0  11880.0           587   \n",
       "4       696500              0.0  360.0        758000.0  10440.0           602   \n",
       "\n",
       "     age        LTV  Status  dtir1  \n",
       "0  25-34  98.728814       1   45.0  \n",
       "1  55-64        NaN       1    NaN  \n",
       "2  35-44  80.019685       0   46.0  \n",
       "3  45-54  69.376900       0   42.0  \n",
       "4  25-34  91.886544       0   39.0  "
      ]
     },
     "execution_count": 52,
     "metadata": {},
     "output_type": "execute_result"
    }
   ],
   "source": [
    "# Column names\n",
    "df.head()"
   ]
  },
  {
   "cell_type": "code",
   "execution_count": 53,
   "metadata": {},
   "outputs": [
    {
     "data": {
      "text/plain": [
       "<AxesSubplot: >"
      ]
     },
     "execution_count": 53,
     "metadata": {},
     "output_type": "execute_result"
    },
    {
     "data": {
      "image/png": "[encoded data removed]",
      "text/plain": [
       "<Figure size 2500x1000 with 2 Axes>"
      ]
     },
     "metadata": {},
     "output_type": "display_data"
    }
   ],
   "source": [
    "# Ploting missing data\n",
    "msno.matrix(df)"
   ]
  },
  {
   "cell_type": "code",
   "execution_count": 54,
   "metadata": {},
   "outputs": [
    {
     "data": {
      "text/plain": [
       "loan_amount            0\n",
       "Upfront_charges    39642\n",
       "term                  41\n",
       "property_value     15098\n",
       "income              9150\n",
       "Credit_Score           0\n",
       "age                  200\n",
       "LTV                15098\n",
       "Status                 0\n",
       "dtir1              24121\n",
       "dtype: int64"
      ]
     },
     "execution_count": 54,
     "metadata": {},
     "output_type": "execute_result"
    }
   ],
   "source": [
    "# Missing data\n",
    "df.isnull().sum()"
   ]
  },
  {
   "cell_type": "code",
   "execution_count": 55,
   "metadata": {},
   "outputs": [],
   "source": [
    "# Missing values percent\n",
    "def miss_val_summary(df):\n",
    "    total = df.shape[0]\n",
    "    miss_columns = [col for col in df.columns if df[col].isnull().sum() > 0]\n",
    "    miss_percent = {}\n",
    "    for col in miss_columns:\n",
    "        null_count = df[col].isnull().sum()\n",
    "        percent = (null_count/total) * 100\n",
    "        miss_percent[col] = percent\n",
    "        print(\"{} : {} ({}%)\".format(col, null_count, round(percent, 3)))\n",
    "    return miss_percent"
   ]
  },
  {
   "cell_type": "code",
   "execution_count": 56,
   "metadata": {},
   "outputs": [
    {
     "name": "stdout",
     "output_type": "stream",
     "text": [
      "Upfront_charges : 39642 (26.664%)\n",
      "term : 41 (0.028%)\n",
      "property_value : 15098 (10.155%)\n",
      "income : 9150 (6.155%)\n",
      "age : 200 (0.135%)\n",
      "LTV : 15098 (10.155%)\n",
      "dtir1 : 24121 (16.225%)\n"
     ]
    }
   ],
   "source": [
    "miss_percent = miss_val_summary(df)"
   ]
  },
  {
   "cell_type": "code",
   "execution_count": 57,
   "metadata": {},
   "outputs": [
    {
     "data": {
      "image/png": "[encoded data removed]",
      "text/plain": [
       "<Figure size 2000x1500 with 9 Axes>"
      ]
     },
     "metadata": {},
     "output_type": "display_data"
    }
   ],
   "source": [
    "# Numerical data histogram\n",
    "df.hist(bins = 50, figsize = (20, 15))\n",
    "plt.show()"
   ]
  },
  {
   "cell_type": "code",
   "execution_count": 58,
   "metadata": {},
   "outputs": [
    {
     "name": "stdout",
     "output_type": "stream",
     "text": [
      "['loan_amount', 'Upfront_charges', 'term', 'property_value', 'income', 'Credit_Score', 'LTV', 'Status', 'dtir1']\n"
     ]
    },
    {
     "data": {
      "text/html": [
       "<div>\n",
       "<style scoped>\n",
       "    .dataframe tbody tr th:only-of-type {\n",
       "        vertical-align: middle;\n",
       "    }\n",
       "\n",
       "    .dataframe tbody tr th {\n",
       "        vertical-align: top;\n",
       "    }\n",
       "\n",
       "    .dataframe thead th {\n",
       "        text-align: right;\n",
       "    }\n",
       "</style>\n",
       "<table border=\"1\" class=\"dataframe\">\n",
       "  <thead>\n",
       "    <tr style=\"text-align: right;\">\n",
       "      <th></th>\n",
       "      <th>loan_amount</th>\n",
       "      <th>Upfront_charges</th>\n",
       "      <th>term</th>\n",
       "      <th>property_value</th>\n",
       "      <th>income</th>\n",
       "      <th>Credit_Score</th>\n",
       "      <th>LTV</th>\n",
       "      <th>Status</th>\n",
       "      <th>dtir1</th>\n",
       "    </tr>\n",
       "  </thead>\n",
       "  <tbody>\n",
       "    <tr>\n",
       "      <th>0</th>\n",
       "      <td>116500</td>\n",
       "      <td>NaN</td>\n",
       "      <td>360.0</td>\n",
       "      <td>118000.0</td>\n",
       "      <td>1740.0</td>\n",
       "      <td>758</td>\n",
       "      <td>98.728814</td>\n",
       "      <td>1</td>\n",
       "      <td>45.0</td>\n",
       "    </tr>\n",
       "    <tr>\n",
       "      <th>1</th>\n",
       "      <td>206500</td>\n",
       "      <td>NaN</td>\n",
       "      <td>360.0</td>\n",
       "      <td>NaN</td>\n",
       "      <td>4980.0</td>\n",
       "      <td>552</td>\n",
       "      <td>NaN</td>\n",
       "      <td>1</td>\n",
       "      <td>NaN</td>\n",
       "    </tr>\n",
       "    <tr>\n",
       "      <th>2</th>\n",
       "      <td>406500</td>\n",
       "      <td>595.0</td>\n",
       "      <td>360.0</td>\n",
       "      <td>508000.0</td>\n",
       "      <td>9480.0</td>\n",
       "      <td>834</td>\n",
       "      <td>80.019685</td>\n",
       "      <td>0</td>\n",
       "      <td>46.0</td>\n",
       "    </tr>\n",
       "    <tr>\n",
       "      <th>3</th>\n",
       "      <td>456500</td>\n",
       "      <td>NaN</td>\n",
       "      <td>360.0</td>\n",
       "      <td>658000.0</td>\n",
       "      <td>11880.0</td>\n",
       "      <td>587</td>\n",
       "      <td>69.376900</td>\n",
       "      <td>0</td>\n",
       "      <td>42.0</td>\n",
       "    </tr>\n",
       "    <tr>\n",
       "      <th>4</th>\n",
       "      <td>696500</td>\n",
       "      <td>0.0</td>\n",
       "      <td>360.0</td>\n",
       "      <td>758000.0</td>\n",
       "      <td>10440.0</td>\n",
       "      <td>602</td>\n",
       "      <td>91.886544</td>\n",
       "      <td>0</td>\n",
       "      <td>39.0</td>\n",
       "    </tr>\n",
       "  </tbody>\n",
       "</table>\n",
       "</div>"
      ],
      "text/plain": [
       "   loan_amount  Upfront_charges   term  property_value   income  Credit_Score  \\\n",
       "0       116500              NaN  360.0        118000.0   1740.0           758   \n",
       "1       206500              NaN  360.0             NaN   4980.0           552   \n",
       "2       406500            595.0  360.0        508000.0   9480.0           834   \n",
       "3       456500              NaN  360.0        658000.0  11880.0           587   \n",
       "4       696500              0.0  360.0        758000.0  10440.0           602   \n",
       "\n",
       "         LTV  Status  dtir1  \n",
       "0  98.728814       1   45.0  \n",
       "1        NaN       1    NaN  \n",
       "2  80.019685       0   46.0  \n",
       "3  69.376900       0   42.0  \n",
       "4  91.886544       0   39.0  "
      ]
     },
     "execution_count": 58,
     "metadata": {},
     "output_type": "execute_result"
    }
   ],
   "source": [
    "# Only numerical features\n",
    "num_cols = [col for col in df.columns if df[col].dtype != 'object']\n",
    "print(num_cols)\n",
    "df_num = df[num_cols]\n",
    "df_num.shape\n",
    "df_num.head()"
   ]
  },
  {
   "cell_type": "code",
   "execution_count": 59,
   "metadata": {},
   "outputs": [
    {
     "data": {
      "text/plain": [
       "Status             1.000000\n",
       "dtir1              0.078083\n",
       "LTV                0.038895\n",
       "Credit_Score       0.004004\n",
       "term              -0.000240\n",
       "Upfront_charges   -0.019138\n",
       "loan_amount       -0.036825\n",
       "property_value    -0.048864\n",
       "income            -0.065119\n",
       "Name: Status, dtype: float64"
      ]
     },
     "execution_count": 59,
     "metadata": {},
     "output_type": "execute_result"
    }
   ],
   "source": [
    "# Numerical Features Correlations\n",
    "corr_matrix = df_num.corr()\n",
    "corr_matrix['Status'].sort_values(ascending = False)"
   ]
  },
  {
   "cell_type": "code",
   "execution_count": 60,
   "metadata": {},
   "outputs": [
    {
     "data": {
      "text/html": [
       "<div>\n",
       "<style scoped>\n",
       "    .dataframe tbody tr th:only-of-type {\n",
       "        vertical-align: middle;\n",
       "    }\n",
       "\n",
       "    .dataframe tbody tr th {\n",
       "        vertical-align: top;\n",
       "    }\n",
       "\n",
       "    .dataframe thead th {\n",
       "        text-align: right;\n",
       "    }\n",
       "</style>\n",
       "<table border=\"1\" class=\"dataframe\">\n",
       "  <thead>\n",
       "    <tr style=\"text-align: right;\">\n",
       "      <th></th>\n",
       "      <th>loan_amount</th>\n",
       "      <th>Upfront_charges</th>\n",
       "      <th>term</th>\n",
       "      <th>property_value</th>\n",
       "      <th>income</th>\n",
       "      <th>Credit_Score</th>\n",
       "      <th>LTV</th>\n",
       "      <th>Status</th>\n",
       "      <th>dtir1</th>\n",
       "    </tr>\n",
       "  </thead>\n",
       "  <tbody>\n",
       "    <tr>\n",
       "      <th>0</th>\n",
       "      <td>116500</td>\n",
       "      <td>NaN</td>\n",
       "      <td>360.0</td>\n",
       "      <td>118000.0</td>\n",
       "      <td>1740.0</td>\n",
       "      <td>758</td>\n",
       "      <td>98.728814</td>\n",
       "      <td>1</td>\n",
       "      <td>45.0</td>\n",
       "    </tr>\n",
       "    <tr>\n",
       "      <th>1</th>\n",
       "      <td>206500</td>\n",
       "      <td>NaN</td>\n",
       "      <td>360.0</td>\n",
       "      <td>NaN</td>\n",
       "      <td>4980.0</td>\n",
       "      <td>552</td>\n",
       "      <td>NaN</td>\n",
       "      <td>1</td>\n",
       "      <td>NaN</td>\n",
       "    </tr>\n",
       "    <tr>\n",
       "      <th>2</th>\n",
       "      <td>406500</td>\n",
       "      <td>595.00</td>\n",
       "      <td>360.0</td>\n",
       "      <td>508000.0</td>\n",
       "      <td>9480.0</td>\n",
       "      <td>834</td>\n",
       "      <td>80.019685</td>\n",
       "      <td>0</td>\n",
       "      <td>46.0</td>\n",
       "    </tr>\n",
       "    <tr>\n",
       "      <th>3</th>\n",
       "      <td>456500</td>\n",
       "      <td>NaN</td>\n",
       "      <td>360.0</td>\n",
       "      <td>658000.0</td>\n",
       "      <td>11880.0</td>\n",
       "      <td>587</td>\n",
       "      <td>69.376900</td>\n",
       "      <td>0</td>\n",
       "      <td>42.0</td>\n",
       "    </tr>\n",
       "    <tr>\n",
       "      <th>4</th>\n",
       "      <td>696500</td>\n",
       "      <td>0.00</td>\n",
       "      <td>360.0</td>\n",
       "      <td>758000.0</td>\n",
       "      <td>10440.0</td>\n",
       "      <td>602</td>\n",
       "      <td>91.886544</td>\n",
       "      <td>0</td>\n",
       "      <td>39.0</td>\n",
       "    </tr>\n",
       "    <tr>\n",
       "      <th>5</th>\n",
       "      <td>706500</td>\n",
       "      <td>370.00</td>\n",
       "      <td>360.0</td>\n",
       "      <td>1008000.0</td>\n",
       "      <td>10080.0</td>\n",
       "      <td>864</td>\n",
       "      <td>70.089286</td>\n",
       "      <td>0</td>\n",
       "      <td>40.0</td>\n",
       "    </tr>\n",
       "    <tr>\n",
       "      <th>6</th>\n",
       "      <td>346500</td>\n",
       "      <td>5120.00</td>\n",
       "      <td>360.0</td>\n",
       "      <td>438000.0</td>\n",
       "      <td>5040.0</td>\n",
       "      <td>860</td>\n",
       "      <td>79.109589</td>\n",
       "      <td>0</td>\n",
       "      <td>44.0</td>\n",
       "    </tr>\n",
       "    <tr>\n",
       "      <th>7</th>\n",
       "      <td>266500</td>\n",
       "      <td>5609.88</td>\n",
       "      <td>360.0</td>\n",
       "      <td>308000.0</td>\n",
       "      <td>3780.0</td>\n",
       "      <td>863</td>\n",
       "      <td>86.525974</td>\n",
       "      <td>0</td>\n",
       "      <td>42.0</td>\n",
       "    </tr>\n",
       "    <tr>\n",
       "      <th>8</th>\n",
       "      <td>376500</td>\n",
       "      <td>1150.00</td>\n",
       "      <td>360.0</td>\n",
       "      <td>478000.0</td>\n",
       "      <td>5580.0</td>\n",
       "      <td>580</td>\n",
       "      <td>78.765690</td>\n",
       "      <td>0</td>\n",
       "      <td>44.0</td>\n",
       "    </tr>\n",
       "    <tr>\n",
       "      <th>9</th>\n",
       "      <td>436500</td>\n",
       "      <td>2316.50</td>\n",
       "      <td>360.0</td>\n",
       "      <td>688000.0</td>\n",
       "      <td>6720.0</td>\n",
       "      <td>788</td>\n",
       "      <td>63.444767</td>\n",
       "      <td>0</td>\n",
       "      <td>30.0</td>\n",
       "    </tr>\n",
       "  </tbody>\n",
       "</table>\n",
       "</div>"
      ],
      "text/plain": [
       "   loan_amount  Upfront_charges   term  property_value   income  Credit_Score  \\\n",
       "0       116500              NaN  360.0        118000.0   1740.0           758   \n",
       "1       206500              NaN  360.0             NaN   4980.0           552   \n",
       "2       406500           595.00  360.0        508000.0   9480.0           834   \n",
       "3       456500              NaN  360.0        658000.0  11880.0           587   \n",
       "4       696500             0.00  360.0        758000.0  10440.0           602   \n",
       "5       706500           370.00  360.0       1008000.0  10080.0           864   \n",
       "6       346500          5120.00  360.0        438000.0   5040.0           860   \n",
       "7       266500          5609.88  360.0        308000.0   3780.0           863   \n",
       "8       376500          1150.00  360.0        478000.0   5580.0           580   \n",
       "9       436500          2316.50  360.0        688000.0   6720.0           788   \n",
       "\n",
       "         LTV  Status  dtir1  \n",
       "0  98.728814       1   45.0  \n",
       "1        NaN       1    NaN  \n",
       "2  80.019685       0   46.0  \n",
       "3  69.376900       0   42.0  \n",
       "4  91.886544       0   39.0  \n",
       "5  70.089286       0   40.0  \n",
       "6  79.109589       0   44.0  \n",
       "7  86.525974       0   42.0  \n",
       "8  78.765690       0   44.0  \n",
       "9  63.444767       0   30.0  "
      ]
     },
     "execution_count": 60,
     "metadata": {},
     "output_type": "execute_result"
    }
   ],
   "source": [
    "df_num.head(10)"
   ]
  },
  {
   "cell_type": "code",
   "execution_count": 61,
   "metadata": {},
   "outputs": [
    {
     "data": {
      "text/html": [
       "<div>\n",
       "<style scoped>\n",
       "    .dataframe tbody tr th:only-of-type {\n",
       "        vertical-align: middle;\n",
       "    }\n",
       "\n",
       "    .dataframe tbody tr th {\n",
       "        vertical-align: top;\n",
       "    }\n",
       "\n",
       "    .dataframe thead th {\n",
       "        text-align: right;\n",
       "    }\n",
       "</style>\n",
       "<table border=\"1\" class=\"dataframe\">\n",
       "  <thead>\n",
       "    <tr style=\"text-align: right;\">\n",
       "      <th></th>\n",
       "      <th>loan_amount</th>\n",
       "      <th>Upfront_charges</th>\n",
       "      <th>term</th>\n",
       "      <th>property_value</th>\n",
       "      <th>income</th>\n",
       "      <th>Credit_Score</th>\n",
       "      <th>LTV</th>\n",
       "      <th>Status</th>\n",
       "      <th>dtir1</th>\n",
       "    </tr>\n",
       "  </thead>\n",
       "  <tbody>\n",
       "    <tr>\n",
       "      <th>count</th>\n",
       "      <td>1.486700e+05</td>\n",
       "      <td>109028.000000</td>\n",
       "      <td>148629.000000</td>\n",
       "      <td>1.335720e+05</td>\n",
       "      <td>139520.000000</td>\n",
       "      <td>148670.000000</td>\n",
       "      <td>133572.000000</td>\n",
       "      <td>148670.000000</td>\n",
       "      <td>124549.000000</td>\n",
       "    </tr>\n",
       "    <tr>\n",
       "      <th>mean</th>\n",
       "      <td>3.311177e+05</td>\n",
       "      <td>3224.996127</td>\n",
       "      <td>335.136582</td>\n",
       "      <td>4.978935e+05</td>\n",
       "      <td>6957.338876</td>\n",
       "      <td>699.789103</td>\n",
       "      <td>72.746457</td>\n",
       "      <td>0.246445</td>\n",
       "      <td>37.732932</td>\n",
       "    </tr>\n",
       "    <tr>\n",
       "      <th>std</th>\n",
       "      <td>1.839093e+05</td>\n",
       "      <td>3251.121510</td>\n",
       "      <td>58.409084</td>\n",
       "      <td>3.599353e+05</td>\n",
       "      <td>6496.586382</td>\n",
       "      <td>115.875857</td>\n",
       "      <td>39.967603</td>\n",
       "      <td>0.430942</td>\n",
       "      <td>10.545435</td>\n",
       "    </tr>\n",
       "    <tr>\n",
       "      <th>min</th>\n",
       "      <td>1.650000e+04</td>\n",
       "      <td>0.000000</td>\n",
       "      <td>96.000000</td>\n",
       "      <td>8.000000e+03</td>\n",
       "      <td>0.000000</td>\n",
       "      <td>500.000000</td>\n",
       "      <td>0.967478</td>\n",
       "      <td>0.000000</td>\n",
       "      <td>5.000000</td>\n",
       "    </tr>\n",
       "    <tr>\n",
       "      <th>25%</th>\n",
       "      <td>1.965000e+05</td>\n",
       "      <td>581.490000</td>\n",
       "      <td>360.000000</td>\n",
       "      <td>2.680000e+05</td>\n",
       "      <td>3720.000000</td>\n",
       "      <td>599.000000</td>\n",
       "      <td>60.474860</td>\n",
       "      <td>0.000000</td>\n",
       "      <td>31.000000</td>\n",
       "    </tr>\n",
       "    <tr>\n",
       "      <th>50%</th>\n",
       "      <td>2.965000e+05</td>\n",
       "      <td>2596.450000</td>\n",
       "      <td>360.000000</td>\n",
       "      <td>4.180000e+05</td>\n",
       "      <td>5760.000000</td>\n",
       "      <td>699.000000</td>\n",
       "      <td>75.135870</td>\n",
       "      <td>0.000000</td>\n",
       "      <td>39.000000</td>\n",
       "    </tr>\n",
       "    <tr>\n",
       "      <th>75%</th>\n",
       "      <td>4.365000e+05</td>\n",
       "      <td>4812.500000</td>\n",
       "      <td>360.000000</td>\n",
       "      <td>6.280000e+05</td>\n",
       "      <td>8520.000000</td>\n",
       "      <td>800.000000</td>\n",
       "      <td>86.184211</td>\n",
       "      <td>0.000000</td>\n",
       "      <td>45.000000</td>\n",
       "    </tr>\n",
       "    <tr>\n",
       "      <th>max</th>\n",
       "      <td>3.576500e+06</td>\n",
       "      <td>60000.000000</td>\n",
       "      <td>360.000000</td>\n",
       "      <td>1.650800e+07</td>\n",
       "      <td>578580.000000</td>\n",
       "      <td>900.000000</td>\n",
       "      <td>7831.250000</td>\n",
       "      <td>1.000000</td>\n",
       "      <td>61.000000</td>\n",
       "    </tr>\n",
       "  </tbody>\n",
       "</table>\n",
       "</div>"
      ],
      "text/plain": [
       "        loan_amount  Upfront_charges           term  property_value  \\\n",
       "count  1.486700e+05    109028.000000  148629.000000    1.335720e+05   \n",
       "mean   3.311177e+05      3224.996127     335.136582    4.978935e+05   \n",
       "std    1.839093e+05      3251.121510      58.409084    3.599353e+05   \n",
       "min    1.650000e+04         0.000000      96.000000    8.000000e+03   \n",
       "25%    1.965000e+05       581.490000     360.000000    2.680000e+05   \n",
       "50%    2.965000e+05      2596.450000     360.000000    4.180000e+05   \n",
       "75%    4.365000e+05      4812.500000     360.000000    6.280000e+05   \n",
       "max    3.576500e+06     60000.000000     360.000000    1.650800e+07   \n",
       "\n",
       "              income   Credit_Score            LTV         Status  \\\n",
       "count  139520.000000  148670.000000  133572.000000  148670.000000   \n",
       "mean     6957.338876     699.789103      72.746457       0.246445   \n",
       "std      6496.586382     115.875857      39.967603       0.430942   \n",
       "min         0.000000     500.000000       0.967478       0.000000   \n",
       "25%      3720.000000     599.000000      60.474860       0.000000   \n",
       "50%      5760.000000     699.000000      75.135870       0.000000   \n",
       "75%      8520.000000     800.000000      86.184211       0.000000   \n",
       "max    578580.000000     900.000000    7831.250000       1.000000   \n",
       "\n",
       "               dtir1  \n",
       "count  124549.000000  \n",
       "mean       37.732932  \n",
       "std        10.545435  \n",
       "min         5.000000  \n",
       "25%        31.000000  \n",
       "50%        39.000000  \n",
       "75%        45.000000  \n",
       "max        61.000000  "
      ]
     },
     "execution_count": 61,
     "metadata": {},
     "output_type": "execute_result"
    }
   ],
   "source": [
    "# Looking into the numerical features\n",
    "df_num.describe()"
   ]
  },
  {
   "cell_type": "code",
   "execution_count": 62,
   "metadata": {},
   "outputs": [
    {
     "data": {
      "text/plain": [
       "loan_amount            0\n",
       "Upfront_charges    39642\n",
       "term                  41\n",
       "property_value     15098\n",
       "income              9150\n",
       "Credit_Score           0\n",
       "LTV                15098\n",
       "Status                 0\n",
       "dtir1              24121\n",
       "dtype: int64"
      ]
     },
     "execution_count": 62,
     "metadata": {},
     "output_type": "execute_result"
    }
   ],
   "source": [
    "# Looking into the numerical features with missing values\n",
    "df_num.isnull().sum()"
   ]
  },
  {
   "cell_type": "markdown",
   "metadata": {},
   "source": [
    "## filling null values"
   ]
  },
  {
   "cell_type": "code",
   "execution_count": 63,
   "metadata": {},
   "outputs": [],
   "source": [
    "# Using the mean value to replace missing values\n",
    "imputer = SimpleImputer(strategy='mean')\n",
    "X = imputer.fit_transform(df_num)"
   ]
  },
  {
   "cell_type": "code",
   "execution_count": 64,
   "metadata": {},
   "outputs": [],
   "source": [
    "pd_num_imputed = pd.DataFrame(X, columns = df_num.columns)"
   ]
  },
  {
   "cell_type": "code",
   "execution_count": 65,
   "metadata": {},
   "outputs": [
    {
     "data": {
      "text/html": [
       "<div>\n",
       "<style scoped>\n",
       "    .dataframe tbody tr th:only-of-type {\n",
       "        vertical-align: middle;\n",
       "    }\n",
       "\n",
       "    .dataframe tbody tr th {\n",
       "        vertical-align: top;\n",
       "    }\n",
       "\n",
       "    .dataframe thead th {\n",
       "        text-align: right;\n",
       "    }\n",
       "</style>\n",
       "<table border=\"1\" class=\"dataframe\">\n",
       "  <thead>\n",
       "    <tr style=\"text-align: right;\">\n",
       "      <th></th>\n",
       "      <th>loan_amount</th>\n",
       "      <th>Upfront_charges</th>\n",
       "      <th>term</th>\n",
       "      <th>property_value</th>\n",
       "      <th>income</th>\n",
       "      <th>Credit_Score</th>\n",
       "      <th>LTV</th>\n",
       "      <th>Status</th>\n",
       "      <th>dtir1</th>\n",
       "    </tr>\n",
       "  </thead>\n",
       "  <tbody>\n",
       "    <tr>\n",
       "      <th>0</th>\n",
       "      <td>116500.0</td>\n",
       "      <td>3224.996127</td>\n",
       "      <td>360.0</td>\n",
       "      <td>118000.000000</td>\n",
       "      <td>1740.0</td>\n",
       "      <td>758.0</td>\n",
       "      <td>98.728814</td>\n",
       "      <td>1.0</td>\n",
       "      <td>45.000000</td>\n",
       "    </tr>\n",
       "    <tr>\n",
       "      <th>1</th>\n",
       "      <td>206500.0</td>\n",
       "      <td>3224.996127</td>\n",
       "      <td>360.0</td>\n",
       "      <td>497893.465696</td>\n",
       "      <td>4980.0</td>\n",
       "      <td>552.0</td>\n",
       "      <td>72.746457</td>\n",
       "      <td>1.0</td>\n",
       "      <td>37.732932</td>\n",
       "    </tr>\n",
       "    <tr>\n",
       "      <th>2</th>\n",
       "      <td>406500.0</td>\n",
       "      <td>595.000000</td>\n",
       "      <td>360.0</td>\n",
       "      <td>508000.000000</td>\n",
       "      <td>9480.0</td>\n",
       "      <td>834.0</td>\n",
       "      <td>80.019685</td>\n",
       "      <td>0.0</td>\n",
       "      <td>46.000000</td>\n",
       "    </tr>\n",
       "    <tr>\n",
       "      <th>3</th>\n",
       "      <td>456500.0</td>\n",
       "      <td>3224.996127</td>\n",
       "      <td>360.0</td>\n",
       "      <td>658000.000000</td>\n",
       "      <td>11880.0</td>\n",
       "      <td>587.0</td>\n",
       "      <td>69.376900</td>\n",
       "      <td>0.0</td>\n",
       "      <td>42.000000</td>\n",
       "    </tr>\n",
       "    <tr>\n",
       "      <th>4</th>\n",
       "      <td>696500.0</td>\n",
       "      <td>0.000000</td>\n",
       "      <td>360.0</td>\n",
       "      <td>758000.000000</td>\n",
       "      <td>10440.0</td>\n",
       "      <td>602.0</td>\n",
       "      <td>91.886544</td>\n",
       "      <td>0.0</td>\n",
       "      <td>39.000000</td>\n",
       "    </tr>\n",
       "  </tbody>\n",
       "</table>\n",
       "</div>"
      ],
      "text/plain": [
       "   loan_amount  Upfront_charges   term  property_value   income  Credit_Score  \\\n",
       "0     116500.0      3224.996127  360.0   118000.000000   1740.0         758.0   \n",
       "1     206500.0      3224.996127  360.0   497893.465696   4980.0         552.0   \n",
       "2     406500.0       595.000000  360.0   508000.000000   9480.0         834.0   \n",
       "3     456500.0      3224.996127  360.0   658000.000000  11880.0         587.0   \n",
       "4     696500.0         0.000000  360.0   758000.000000  10440.0         602.0   \n",
       "\n",
       "         LTV  Status      dtir1  \n",
       "0  98.728814     1.0  45.000000  \n",
       "1  72.746457     1.0  37.732932  \n",
       "2  80.019685     0.0  46.000000  \n",
       "3  69.376900     0.0  42.000000  \n",
       "4  91.886544     0.0  39.000000  "
      ]
     },
     "execution_count": 65,
     "metadata": {},
     "output_type": "execute_result"
    }
   ],
   "source": [
    "pd_num_imputed.head()"
   ]
  },
  {
   "cell_type": "code",
   "execution_count": 66,
   "metadata": {},
   "outputs": [
    {
     "data": {
      "text/plain": [
       "loan_amount        0\n",
       "Upfront_charges    0\n",
       "term               0\n",
       "property_value     0\n",
       "income             0\n",
       "Credit_Score       0\n",
       "LTV                0\n",
       "Status             0\n",
       "dtir1              0\n",
       "dtype: int64"
      ]
     },
     "execution_count": 66,
     "metadata": {},
     "output_type": "execute_result"
    }
   ],
   "source": [
    "pd_num_imputed.isnull().sum()"
   ]
  },
  {
   "cell_type": "code",
   "execution_count": 67,
   "metadata": {},
   "outputs": [
    {
     "data": {
      "text/plain": [
       "['age']"
      ]
     },
     "execution_count": 67,
     "metadata": {},
     "output_type": "execute_result"
    }
   ],
   "source": [
    "# Only categorical variables\n",
    "obj=[]\n",
    "for i in df.columns:\n",
    "    if df[i].dtype=='object':\n",
    "        obj.append(i)\n",
    "obj"
   ]
  },
  {
   "cell_type": "code",
   "execution_count": 68,
   "metadata": {},
   "outputs": [
    {
     "name": "stdout",
     "output_type": "stream",
     "text": [
      "['25-34' '55-64' '35-44' '45-54' '65-74' '>74' '<25' nan]\n"
     ]
    }
   ],
   "source": [
    "# Categorical variables values\n",
    "unique_values = df['age'].unique()\n",
    "print(unique_values)"
   ]
  },
  {
   "cell_type": "code",
   "execution_count": 69,
   "metadata": {},
   "outputs": [
    {
     "data": {
      "text/plain": [
       "age    200\n",
       "dtype: int64"
      ]
     },
     "execution_count": 69,
     "metadata": {},
     "output_type": "execute_result"
    }
   ],
   "source": [
    "# Looking into the categorical features with missing values\n",
    "df[obj].isnull().sum()"
   ]
  },
  {
   "cell_type": "code",
   "execution_count": 70,
   "metadata": {},
   "outputs": [
    {
     "data": {
      "text/html": [
       "<div>\n",
       "<style scoped>\n",
       "    .dataframe tbody tr th:only-of-type {\n",
       "        vertical-align: middle;\n",
       "    }\n",
       "\n",
       "    .dataframe tbody tr th {\n",
       "        vertical-align: top;\n",
       "    }\n",
       "\n",
       "    .dataframe thead th {\n",
       "        text-align: right;\n",
       "    }\n",
       "</style>\n",
       "<table border=\"1\" class=\"dataframe\">\n",
       "  <thead>\n",
       "    <tr style=\"text-align: right;\">\n",
       "      <th></th>\n",
       "      <th>age</th>\n",
       "    </tr>\n",
       "  </thead>\n",
       "  <tbody>\n",
       "    <tr>\n",
       "      <th>0</th>\n",
       "      <td>25-34</td>\n",
       "    </tr>\n",
       "    <tr>\n",
       "      <th>1</th>\n",
       "      <td>55-64</td>\n",
       "    </tr>\n",
       "    <tr>\n",
       "      <th>2</th>\n",
       "      <td>35-44</td>\n",
       "    </tr>\n",
       "    <tr>\n",
       "      <th>3</th>\n",
       "      <td>45-54</td>\n",
       "    </tr>\n",
       "    <tr>\n",
       "      <th>4</th>\n",
       "      <td>25-34</td>\n",
       "    </tr>\n",
       "  </tbody>\n",
       "</table>\n",
       "</div>"
      ],
      "text/plain": [
       "     age\n",
       "0  25-34\n",
       "1  55-64\n",
       "2  35-44\n",
       "3  45-54\n",
       "4  25-34"
      ]
     },
     "execution_count": 70,
     "metadata": {},
     "output_type": "execute_result"
    }
   ],
   "source": [
    "df_cat = df[obj]\n",
    "df_cat.head()"
   ]
  },
  {
   "cell_type": "code",
   "execution_count": 71,
   "metadata": {},
   "outputs": [],
   "source": [
    "df = df_cat.join(pd_num_imputed)"
   ]
  },
  {
   "cell_type": "code",
   "execution_count": 72,
   "metadata": {},
   "outputs": [
    {
     "data": {
      "text/plain": [
       "age                200\n",
       "loan_amount          0\n",
       "Upfront_charges      0\n",
       "term                 0\n",
       "property_value       0\n",
       "income               0\n",
       "Credit_Score         0\n",
       "LTV                  0\n",
       "Status               0\n",
       "dtir1                0\n",
       "dtype: int64"
      ]
     },
     "execution_count": 72,
     "metadata": {},
     "output_type": "execute_result"
    }
   ],
   "source": [
    "df.isnull().sum()"
   ]
  },
  {
   "cell_type": "code",
   "execution_count": 73,
   "metadata": {},
   "outputs": [],
   "source": [
    "df = df.dropna()"
   ]
  },
  {
   "cell_type": "code",
   "execution_count": 74,
   "metadata": {},
   "outputs": [
    {
     "data": {
      "text/plain": [
       "age                0\n",
       "loan_amount        0\n",
       "Upfront_charges    0\n",
       "term               0\n",
       "property_value     0\n",
       "income             0\n",
       "Credit_Score       0\n",
       "LTV                0\n",
       "Status             0\n",
       "dtir1              0\n",
       "dtype: int64"
      ]
     },
     "execution_count": 74,
     "metadata": {},
     "output_type": "execute_result"
    }
   ],
   "source": [
    "df.isnull().sum()"
   ]
  },
  {
   "cell_type": "code",
   "execution_count": 75,
   "metadata": {},
   "outputs": [
    {
     "data": {
      "text/plain": [
       "0.0    112031\n",
       "1.0     36439\n",
       "Name: Status, dtype: int64"
      ]
     },
     "execution_count": 75,
     "metadata": {},
     "output_type": "execute_result"
    }
   ],
   "source": [
    "# status value count\n",
    "df['Status'].value_counts()"
   ]
  },
  {
   "cell_type": "code",
   "execution_count": 76,
   "metadata": {},
   "outputs": [
    {
     "data": {
      "text/html": [
       "<div>\n",
       "<style scoped>\n",
       "    .dataframe tbody tr th:only-of-type {\n",
       "        vertical-align: middle;\n",
       "    }\n",
       "\n",
       "    .dataframe tbody tr th {\n",
       "        vertical-align: top;\n",
       "    }\n",
       "\n",
       "    .dataframe thead th {\n",
       "        text-align: right;\n",
       "    }\n",
       "</style>\n",
       "<table border=\"1\" class=\"dataframe\">\n",
       "  <thead>\n",
       "    <tr style=\"text-align: right;\">\n",
       "      <th></th>\n",
       "      <th>age</th>\n",
       "      <th>loan_amount</th>\n",
       "      <th>Upfront_charges</th>\n",
       "      <th>term</th>\n",
       "      <th>property_value</th>\n",
       "      <th>income</th>\n",
       "      <th>Credit_Score</th>\n",
       "      <th>LTV</th>\n",
       "      <th>Status</th>\n",
       "      <th>dtir1</th>\n",
       "    </tr>\n",
       "  </thead>\n",
       "  <tbody>\n",
       "    <tr>\n",
       "      <th>0</th>\n",
       "      <td>25-34</td>\n",
       "      <td>116500.0</td>\n",
       "      <td>3224.996127</td>\n",
       "      <td>360.0</td>\n",
       "      <td>118000.000000</td>\n",
       "      <td>1740.0</td>\n",
       "      <td>758.0</td>\n",
       "      <td>98.728814</td>\n",
       "      <td>1.0</td>\n",
       "      <td>45.000000</td>\n",
       "    </tr>\n",
       "    <tr>\n",
       "      <th>1</th>\n",
       "      <td>55-64</td>\n",
       "      <td>206500.0</td>\n",
       "      <td>3224.996127</td>\n",
       "      <td>360.0</td>\n",
       "      <td>497893.465696</td>\n",
       "      <td>4980.0</td>\n",
       "      <td>552.0</td>\n",
       "      <td>72.746457</td>\n",
       "      <td>1.0</td>\n",
       "      <td>37.732932</td>\n",
       "    </tr>\n",
       "    <tr>\n",
       "      <th>2</th>\n",
       "      <td>35-44</td>\n",
       "      <td>406500.0</td>\n",
       "      <td>595.000000</td>\n",
       "      <td>360.0</td>\n",
       "      <td>508000.000000</td>\n",
       "      <td>9480.0</td>\n",
       "      <td>834.0</td>\n",
       "      <td>80.019685</td>\n",
       "      <td>0.0</td>\n",
       "      <td>46.000000</td>\n",
       "    </tr>\n",
       "    <tr>\n",
       "      <th>3</th>\n",
       "      <td>45-54</td>\n",
       "      <td>456500.0</td>\n",
       "      <td>3224.996127</td>\n",
       "      <td>360.0</td>\n",
       "      <td>658000.000000</td>\n",
       "      <td>11880.0</td>\n",
       "      <td>587.0</td>\n",
       "      <td>69.376900</td>\n",
       "      <td>0.0</td>\n",
       "      <td>42.000000</td>\n",
       "    </tr>\n",
       "    <tr>\n",
       "      <th>4</th>\n",
       "      <td>25-34</td>\n",
       "      <td>696500.0</td>\n",
       "      <td>0.000000</td>\n",
       "      <td>360.0</td>\n",
       "      <td>758000.000000</td>\n",
       "      <td>10440.0</td>\n",
       "      <td>602.0</td>\n",
       "      <td>91.886544</td>\n",
       "      <td>0.0</td>\n",
       "      <td>39.000000</td>\n",
       "    </tr>\n",
       "  </tbody>\n",
       "</table>\n",
       "</div>"
      ],
      "text/plain": [
       "     age  loan_amount  Upfront_charges   term  property_value   income  \\\n",
       "0  25-34     116500.0      3224.996127  360.0   118000.000000   1740.0   \n",
       "1  55-64     206500.0      3224.996127  360.0   497893.465696   4980.0   \n",
       "2  35-44     406500.0       595.000000  360.0   508000.000000   9480.0   \n",
       "3  45-54     456500.0      3224.996127  360.0   658000.000000  11880.0   \n",
       "4  25-34     696500.0         0.000000  360.0   758000.000000  10440.0   \n",
       "\n",
       "   Credit_Score        LTV  Status      dtir1  \n",
       "0         758.0  98.728814     1.0  45.000000  \n",
       "1         552.0  72.746457     1.0  37.732932  \n",
       "2         834.0  80.019685     0.0  46.000000  \n",
       "3         587.0  69.376900     0.0  42.000000  \n",
       "4         602.0  91.886544     0.0  39.000000  "
      ]
     },
     "execution_count": 76,
     "metadata": {},
     "output_type": "execute_result"
    }
   ],
   "source": [
    "df.head()"
   ]
  },
  {
   "cell_type": "code",
   "execution_count": 77,
   "metadata": {},
   "outputs": [],
   "source": [
    "df.to_csv('clean.csv', index = False)"
   ]
  },
  {
   "cell_type": "markdown",
   "metadata": {},
   "source": [
    "## encoding Ordinal categorical column"
   ]
  },
  {
   "cell_type": "code",
   "execution_count": 78,
   "metadata": {},
   "outputs": [
    {
     "data": {
      "text/html": [
       "<div>\n",
       "<style scoped>\n",
       "    .dataframe tbody tr th:only-of-type {\n",
       "        vertical-align: middle;\n",
       "    }\n",
       "\n",
       "    .dataframe tbody tr th {\n",
       "        vertical-align: top;\n",
       "    }\n",
       "\n",
       "    .dataframe thead th {\n",
       "        text-align: right;\n",
       "    }\n",
       "</style>\n",
       "<table border=\"1\" class=\"dataframe\">\n",
       "  <thead>\n",
       "    <tr style=\"text-align: right;\">\n",
       "      <th></th>\n",
       "      <th>age</th>\n",
       "      <th>loan_amount</th>\n",
       "      <th>Upfront_charges</th>\n",
       "      <th>term</th>\n",
       "      <th>property_value</th>\n",
       "      <th>income</th>\n",
       "      <th>Credit_Score</th>\n",
       "      <th>LTV</th>\n",
       "      <th>Status</th>\n",
       "      <th>dtir1</th>\n",
       "    </tr>\n",
       "  </thead>\n",
       "  <tbody>\n",
       "    <tr>\n",
       "      <th>0</th>\n",
       "      <td>25-34</td>\n",
       "      <td>116500.0</td>\n",
       "      <td>3224.996127</td>\n",
       "      <td>360.0</td>\n",
       "      <td>118000.000000</td>\n",
       "      <td>1740.0</td>\n",
       "      <td>758.0</td>\n",
       "      <td>98.728814</td>\n",
       "      <td>1.0</td>\n",
       "      <td>45.000000</td>\n",
       "    </tr>\n",
       "    <tr>\n",
       "      <th>1</th>\n",
       "      <td>55-64</td>\n",
       "      <td>206500.0</td>\n",
       "      <td>3224.996127</td>\n",
       "      <td>360.0</td>\n",
       "      <td>497893.465696</td>\n",
       "      <td>4980.0</td>\n",
       "      <td>552.0</td>\n",
       "      <td>72.746457</td>\n",
       "      <td>1.0</td>\n",
       "      <td>37.732932</td>\n",
       "    </tr>\n",
       "    <tr>\n",
       "      <th>2</th>\n",
       "      <td>35-44</td>\n",
       "      <td>406500.0</td>\n",
       "      <td>595.000000</td>\n",
       "      <td>360.0</td>\n",
       "      <td>508000.000000</td>\n",
       "      <td>9480.0</td>\n",
       "      <td>834.0</td>\n",
       "      <td>80.019685</td>\n",
       "      <td>0.0</td>\n",
       "      <td>46.000000</td>\n",
       "    </tr>\n",
       "    <tr>\n",
       "      <th>3</th>\n",
       "      <td>45-54</td>\n",
       "      <td>456500.0</td>\n",
       "      <td>3224.996127</td>\n",
       "      <td>360.0</td>\n",
       "      <td>658000.000000</td>\n",
       "      <td>11880.0</td>\n",
       "      <td>587.0</td>\n",
       "      <td>69.376900</td>\n",
       "      <td>0.0</td>\n",
       "      <td>42.000000</td>\n",
       "    </tr>\n",
       "    <tr>\n",
       "      <th>4</th>\n",
       "      <td>25-34</td>\n",
       "      <td>696500.0</td>\n",
       "      <td>0.000000</td>\n",
       "      <td>360.0</td>\n",
       "      <td>758000.000000</td>\n",
       "      <td>10440.0</td>\n",
       "      <td>602.0</td>\n",
       "      <td>91.886544</td>\n",
       "      <td>0.0</td>\n",
       "      <td>39.000000</td>\n",
       "    </tr>\n",
       "  </tbody>\n",
       "</table>\n",
       "</div>"
      ],
      "text/plain": [
       "     age  loan_amount  Upfront_charges   term  property_value   income  \\\n",
       "0  25-34     116500.0      3224.996127  360.0   118000.000000   1740.0   \n",
       "1  55-64     206500.0      3224.996127  360.0   497893.465696   4980.0   \n",
       "2  35-44     406500.0       595.000000  360.0   508000.000000   9480.0   \n",
       "3  45-54     456500.0      3224.996127  360.0   658000.000000  11880.0   \n",
       "4  25-34     696500.0         0.000000  360.0   758000.000000  10440.0   \n",
       "\n",
       "   Credit_Score        LTV  Status      dtir1  \n",
       "0         758.0  98.728814     1.0  45.000000  \n",
       "1         552.0  72.746457     1.0  37.732932  \n",
       "2         834.0  80.019685     0.0  46.000000  \n",
       "3         587.0  69.376900     0.0  42.000000  \n",
       "4         602.0  91.886544     0.0  39.000000  "
      ]
     },
     "execution_count": 78,
     "metadata": {},
     "output_type": "execute_result"
    }
   ],
   "source": [
    "df.head()"
   ]
  },
  {
   "cell_type": "code",
   "execution_count": 79,
   "metadata": {},
   "outputs": [],
   "source": [
    "age_mapping = {\n",
    "    '<25': 1,\n",
    "    '25-34': 2,\n",
    "    '35-44': 3,\n",
    "    '45-54': 4,\n",
    "    '55-64': 5,\n",
    "    '65-74': 6,\n",
    "    '>74': 7\n",
    "}\n",
    "\n",
    "# Map the age categories to numerical values\n",
    "df['age'] = df['age'].map(age_mapping)"
   ]
  },
  {
   "cell_type": "code",
   "execution_count": 80,
   "metadata": {},
   "outputs": [
    {
     "data": {
      "text/html": [
       "<div>\n",
       "<style scoped>\n",
       "    .dataframe tbody tr th:only-of-type {\n",
       "        vertical-align: middle;\n",
       "    }\n",
       "\n",
       "    .dataframe tbody tr th {\n",
       "        vertical-align: top;\n",
       "    }\n",
       "\n",
       "    .dataframe thead th {\n",
       "        text-align: right;\n",
       "    }\n",
       "</style>\n",
       "<table border=\"1\" class=\"dataframe\">\n",
       "  <thead>\n",
       "    <tr style=\"text-align: right;\">\n",
       "      <th></th>\n",
       "      <th>age</th>\n",
       "      <th>loan_amount</th>\n",
       "      <th>Upfront_charges</th>\n",
       "      <th>term</th>\n",
       "      <th>property_value</th>\n",
       "      <th>income</th>\n",
       "      <th>Credit_Score</th>\n",
       "      <th>LTV</th>\n",
       "      <th>Status</th>\n",
       "      <th>dtir1</th>\n",
       "    </tr>\n",
       "  </thead>\n",
       "  <tbody>\n",
       "    <tr>\n",
       "      <th>0</th>\n",
       "      <td>2</td>\n",
       "      <td>116500.0</td>\n",
       "      <td>3224.996127</td>\n",
       "      <td>360.0</td>\n",
       "      <td>118000.000000</td>\n",
       "      <td>1740.0</td>\n",
       "      <td>758.0</td>\n",
       "      <td>98.728814</td>\n",
       "      <td>1.0</td>\n",
       "      <td>45.000000</td>\n",
       "    </tr>\n",
       "    <tr>\n",
       "      <th>1</th>\n",
       "      <td>5</td>\n",
       "      <td>206500.0</td>\n",
       "      <td>3224.996127</td>\n",
       "      <td>360.0</td>\n",
       "      <td>497893.465696</td>\n",
       "      <td>4980.0</td>\n",
       "      <td>552.0</td>\n",
       "      <td>72.746457</td>\n",
       "      <td>1.0</td>\n",
       "      <td>37.732932</td>\n",
       "    </tr>\n",
       "    <tr>\n",
       "      <th>2</th>\n",
       "      <td>3</td>\n",
       "      <td>406500.0</td>\n",
       "      <td>595.000000</td>\n",
       "      <td>360.0</td>\n",
       "      <td>508000.000000</td>\n",
       "      <td>9480.0</td>\n",
       "      <td>834.0</td>\n",
       "      <td>80.019685</td>\n",
       "      <td>0.0</td>\n",
       "      <td>46.000000</td>\n",
       "    </tr>\n",
       "    <tr>\n",
       "      <th>3</th>\n",
       "      <td>4</td>\n",
       "      <td>456500.0</td>\n",
       "      <td>3224.996127</td>\n",
       "      <td>360.0</td>\n",
       "      <td>658000.000000</td>\n",
       "      <td>11880.0</td>\n",
       "      <td>587.0</td>\n",
       "      <td>69.376900</td>\n",
       "      <td>0.0</td>\n",
       "      <td>42.000000</td>\n",
       "    </tr>\n",
       "    <tr>\n",
       "      <th>4</th>\n",
       "      <td>2</td>\n",
       "      <td>696500.0</td>\n",
       "      <td>0.000000</td>\n",
       "      <td>360.0</td>\n",
       "      <td>758000.000000</td>\n",
       "      <td>10440.0</td>\n",
       "      <td>602.0</td>\n",
       "      <td>91.886544</td>\n",
       "      <td>0.0</td>\n",
       "      <td>39.000000</td>\n",
       "    </tr>\n",
       "  </tbody>\n",
       "</table>\n",
       "</div>"
      ],
      "text/plain": [
       "   age  loan_amount  Upfront_charges   term  property_value   income  \\\n",
       "0    2     116500.0      3224.996127  360.0   118000.000000   1740.0   \n",
       "1    5     206500.0      3224.996127  360.0   497893.465696   4980.0   \n",
       "2    3     406500.0       595.000000  360.0   508000.000000   9480.0   \n",
       "3    4     456500.0      3224.996127  360.0   658000.000000  11880.0   \n",
       "4    2     696500.0         0.000000  360.0   758000.000000  10440.0   \n",
       "\n",
       "   Credit_Score        LTV  Status      dtir1  \n",
       "0         758.0  98.728814     1.0  45.000000  \n",
       "1         552.0  72.746457     1.0  37.732932  \n",
       "2         834.0  80.019685     0.0  46.000000  \n",
       "3         587.0  69.376900     0.0  42.000000  \n",
       "4         602.0  91.886544     0.0  39.000000  "
      ]
     },
     "execution_count": 80,
     "metadata": {},
     "output_type": "execute_result"
    }
   ],
   "source": [
    "df.head()"
   ]
  },
  {
   "cell_type": "markdown",
   "metadata": {},
   "source": [
    "# ML Model"
   ]
  },
  {
   "cell_type": "code",
   "execution_count": 81,
   "metadata": {},
   "outputs": [
    {
     "data": {
      "text/html": [
       "<style>#sk-container-id-2 {color: black;background-color: white;}#sk-container-id-2 pre{padding: 0;}#sk-container-id-2 div.sk-toggleable {background-color: white;}#sk-container-id-2 label.sk-toggleable__label {cursor: pointer;display: block;width: 100%;margin-bottom: 0;padding: 0.3em;box-sizing: border-box;text-align: center;}#sk-container-id-2 label.sk-toggleable__label-arrow:before {content: \"▸\";float: left;margin-right: 0.25em;color: #696969;}#sk-container-id-2 label.sk-toggleable__label-arrow:hover:before {color: black;}#sk-container-id-2 div.sk-estimator:hover label.sk-toggleable__label-arrow:before {color: black;}#sk-container-id-2 div.sk-toggleable__content {max-height: 0;max-width: 0;overflow: hidden;text-align: left;background-color: #f0f8ff;}#sk-container-id-2 div.sk-toggleable__content pre {margin: 0.2em;color: black;border-radius: 0.25em;background-color: #f0f8ff;}#sk-container-id-2 input.sk-toggleable__control:checked~div.sk-toggleable__content {max-height: 200px;max-width: 100%;overflow: auto;}#sk-container-id-2 input.sk-toggleable__control:checked~label.sk-toggleable__label-arrow:before {content: \"▾\";}#sk-container-id-2 div.sk-estimator input.sk-toggleable__control:checked~label.sk-toggleable__label {background-color: #d4ebff;}#sk-container-id-2 div.sk-label input.sk-toggleable__control:checked~label.sk-toggleable__label {background-color: #d4ebff;}#sk-container-id-2 input.sk-hidden--visually {border: 0;clip: rect(1px 1px 1px 1px);clip: rect(1px, 1px, 1px, 1px);height: 1px;margin: -1px;overflow: hidden;padding: 0;position: absolute;width: 1px;}#sk-container-id-2 div.sk-estimator {font-family: monospace;background-color: #f0f8ff;border: 1px dotted black;border-radius: 0.25em;box-sizing: border-box;margin-bottom: 0.5em;}#sk-container-id-2 div.sk-estimator:hover {background-color: #d4ebff;}#sk-container-id-2 div.sk-parallel-item::after {content: \"\";width: 100%;border-bottom: 1px solid gray;flex-grow: 1;}#sk-container-id-2 div.sk-label:hover label.sk-toggleable__label {background-color: #d4ebff;}#sk-container-id-2 div.sk-serial::before {content: \"\";position: absolute;border-left: 1px solid gray;box-sizing: border-box;top: 0;bottom: 0;left: 50%;z-index: 0;}#sk-container-id-2 div.sk-serial {display: flex;flex-direction: column;align-items: center;background-color: white;padding-right: 0.2em;padding-left: 0.2em;position: relative;}#sk-container-id-2 div.sk-item {position: relative;z-index: 1;}#sk-container-id-2 div.sk-parallel {display: flex;align-items: stretch;justify-content: center;background-color: white;position: relative;}#sk-container-id-2 div.sk-item::before, #sk-container-id-2 div.sk-parallel-item::before {content: \"\";position: absolute;border-left: 1px solid gray;box-sizing: border-box;top: 0;bottom: 0;left: 50%;z-index: -1;}#sk-container-id-2 div.sk-parallel-item {display: flex;flex-direction: column;z-index: 1;position: relative;background-color: white;}#sk-container-id-2 div.sk-parallel-item:first-child::after {align-self: flex-end;width: 50%;}#sk-container-id-2 div.sk-parallel-item:last-child::after {align-self: flex-start;width: 50%;}#sk-container-id-2 div.sk-parallel-item:only-child::after {width: 0;}#sk-container-id-2 div.sk-dashed-wrapped {border: 1px dashed gray;margin: 0 0.4em 0.5em 0.4em;box-sizing: border-box;padding-bottom: 0.4em;background-color: white;}#sk-container-id-2 div.sk-label label {font-family: monospace;font-weight: bold;display: inline-block;line-height: 1.2em;}#sk-container-id-2 div.sk-label-container {text-align: center;}#sk-container-id-2 div.sk-container {/* jupyter's `normalize.less` sets `[hidden] { display: none; }` but bootstrap.min.css set `[hidden] { display: none !important; }` so we also need the `!important` here to be able to override the default hidden behavior on the sphinx rendered scikit-learn.org. See: https://github.com/scikit-learn/scikit-learn/issues/21755 */display: inline-block !important;position: relative;}#sk-container-id-2 div.sk-text-repr-fallback {display: none;}</style><div id=\"sk-container-id-2\" class=\"sk-top-container\"><div class=\"sk-text-repr-fallback\"><pre>DecisionTreeClassifier()</pre><b>In a Jupyter environment, please rerun this cell to show the HTML representation or trust the notebook. <br />On GitHub, the HTML representation is unable to render, please try loading this page with nbviewer.org.</b></div><div class=\"sk-container\" hidden><div class=\"sk-item\"><div class=\"sk-estimator sk-toggleable\"><input class=\"sk-toggleable__control sk-hidden--visually\" id=\"sk-estimator-id-2\" type=\"checkbox\" checked><label for=\"sk-estimator-id-2\" class=\"sk-toggleable__label sk-toggleable__label-arrow\">DecisionTreeClassifier</label><div class=\"sk-toggleable__content\"><pre>DecisionTreeClassifier()</pre></div></div></div></div></div>"
      ],
      "text/plain": [
       "DecisionTreeClassifier()"
      ]
     },
     "execution_count": 81,
     "metadata": {},
     "output_type": "execute_result"
    }
   ],
   "source": [
    "### Split into training and validation set\n",
    "from sklearn.model_selection import StratifiedKFold, train_test_split\n",
    "\n",
    "y = df[\"Status\"]\n",
    "\n",
    "X = df.drop([\"Status\"], axis=1)\n",
    "\n",
    "X_train , X_test , y_train, y_test = train_test_split(X, y, test_size = 0.20, shuffle = True, stratify = y, random_state = 0)\n",
    "\n",
    "cv = StratifiedKFold(n_splits=5, shuffle=True, random_state=0)\n",
    "\n",
    "# Decision Tree\n",
    "from sklearn.tree import DecisionTreeClassifier\n",
    "tree = DecisionTreeClassifier()\n",
    "tree.fit(X_train, y_train)"
   ]
  },
  {
   "cell_type": "code",
   "execution_count": 82,
   "metadata": {},
   "outputs": [
    {
     "name": "stdout",
     "output_type": "stream",
     "text": [
      "X_train shape: (118776, 9)\n",
      "X_test shape: (29694, 9)\n",
      "y_train shape: (118776,)\n",
      "y_test shape: (29694,)\n"
     ]
    }
   ],
   "source": [
    "print('X_train shape:', X_train.shape)\n",
    "print('X_test shape:', X_test.shape)\n",
    "print('y_train shape:', y_train.shape)\n",
    "print('y_test shape:', y_test.shape)"
   ]
  },
  {
   "cell_type": "code",
   "execution_count": 83,
   "metadata": {},
   "outputs": [
    {
     "data": {
      "text/plain": [
       "array([0., 0., 0., ..., 1., 0., 0.])"
      ]
     },
     "execution_count": 83,
     "metadata": {},
     "output_type": "execute_result"
    }
   ],
   "source": [
    "predict = tree.predict(X_test)\n",
    "predict"
   ]
  },
  {
   "cell_type": "code",
   "execution_count": 84,
   "metadata": {},
   "outputs": [
    {
     "data": {
      "image/png": "[encoded data removed]",
      "text/plain": [
       "<Figure size 640x480 with 2 Axes>"
      ]
     },
     "metadata": {},
     "output_type": "display_data"
    },
    {
     "name": "stdout",
     "output_type": "stream",
     "text": [
      "Model Metrics:\n",
      "Accuracy:  0.9657843335353944\n",
      "Precision:  0.9338682899833979\n",
      "Recall:  0.9261800219538968\n",
      "F1 score:  0.9300082667401489\n"
     ]
    }
   ],
   "source": [
    "# Confusion matrix and accuracy score\n",
    "from sklearn.metrics import confusion_matrix, accuracy_score, precision_score, recall_score, f1_score, ConfusionMatrixDisplay, classification_report\n",
    "conf_mat = confusion_matrix(y_test, predict)\n",
    "\n",
    "# Decision Tree metrics\n",
    "ConfusionMatrixDisplay.from_predictions(y_test, predict)\n",
    "plt.show()\n",
    "print(\"Model Metrics:\")\n",
    "print(\"Accuracy: \", accuracy_score(y_test, predict))\n",
    "print(\"Precision: \", precision_score(y_test, predict))\n",
    "print(\"Recall: \", recall_score(y_test, predict))\n",
    "print(\"F1 score: \", f1_score(y_test, predict))"
   ]
  },
  {
   "cell_type": "markdown",
   "metadata": {},
   "source": [
    "## Balancing the dataset using SMOTE (Synthetic Minority Over-sampling Technique)."
   ]
  },
  {
   "cell_type": "code",
   "execution_count": 85,
   "metadata": {},
   "outputs": [
    {
     "data": {
      "text/plain": [
       "1.0    112031\n",
       "0.0    112031\n",
       "Name: Status, dtype: int64"
      ]
     },
     "execution_count": 85,
     "metadata": {},
     "output_type": "execute_result"
    }
   ],
   "source": [
    "from imblearn.over_sampling import SMOTE\n",
    "\n",
    "smote = SMOTE(sampling_strategy='auto', k_neighbors=3)\n",
    "X, y = smote.fit_resample(X, y)\n",
    "\n",
    "y.value_counts()"
   ]
  },
  {
   "cell_type": "code",
   "execution_count": 86,
   "metadata": {},
   "outputs": [
    {
     "name": "stdout",
     "output_type": "stream",
     "text": [
      "X_train shape: (179249, 9)\n",
      "X_test shape: (44813, 9)\n",
      "y_train shape: (179249,)\n",
      "y_test shape: (44813,)\n"
     ]
    }
   ],
   "source": [
    "from sklearn.model_selection import train_test_split\n",
    "\n",
    "\n",
    "# Split the data into training and testing sets\n",
    "X_train, X_test, y_train, y_test = train_test_split(X, y, test_size=0.2, random_state=42)\n",
    "\n",
    "# Display the shapes of the resulting sets\n",
    "print('X_train shape:', X_train.shape)\n",
    "print('X_test shape:', X_test.shape)\n",
    "print('y_train shape:', y_train.shape)\n",
    "print('y_test shape:', y_test.shape)\n"
   ]
  },
  {
   "cell_type": "code",
   "execution_count": 87,
   "metadata": {},
   "outputs": [
    {
     "data": {
      "text/plain": [
       "array([0., 1., 1., ..., 0., 1., 0.])"
      ]
     },
     "execution_count": 87,
     "metadata": {},
     "output_type": "execute_result"
    }
   ],
   "source": [
    "predict_2 = tree.predict(X_test)\n",
    "predict_2"
   ]
  },
  {
   "cell_type": "code",
   "execution_count": 88,
   "metadata": {},
   "outputs": [
    {
     "data": {
      "image/png": "[encoded data removed]",
      "text/plain": [
       "<Figure size 640x480 with 2 Axes>"
      ]
     },
     "metadata": {},
     "output_type": "display_data"
    },
    {
     "name": "stdout",
     "output_type": "stream",
     "text": [
      "Model Metrics:\n",
      "Accuracy:  0.9785553299265838\n",
      "Precision:  0.9955801104972376\n",
      "Recall:  0.9615367513006359\n",
      "F1 score:  0.9782623447714266\n"
     ]
    }
   ],
   "source": [
    "# Confusion matrix and accuracy score\n",
    "from sklearn.metrics import confusion_matrix, accuracy_score, precision_score, recall_score, f1_score, ConfusionMatrixDisplay, classification_report\n",
    "conf_mat = confusion_matrix(y_test, predict_2)\n",
    "\n",
    "# Decision Tree metrics\n",
    "ConfusionMatrixDisplay.from_predictions(y_test, predict_2)\n",
    "plt.show()\n",
    "print(\"Model Metrics:\")\n",
    "print(\"Accuracy: \", accuracy_score(y_test, predict_2))\n",
    "print(\"Precision: \", precision_score(y_test, predict_2))\n",
    "print(\"Recall: \", recall_score(y_test, predict_2))\n",
    "print(\"F1 score: \", f1_score(y_test, predict_2))"
   ]
  },
  {
   "cell_type": "code",
   "execution_count": 89,
   "metadata": {},
   "outputs": [
    {
     "data": {
      "text/html": [
       "<style>#sk-container-id-3 {color: black;background-color: white;}#sk-container-id-3 pre{padding: 0;}#sk-container-id-3 div.sk-toggleable {background-color: white;}#sk-container-id-3 label.sk-toggleable__label {cursor: pointer;display: block;width: 100%;margin-bottom: 0;padding: 0.3em;box-sizing: border-box;text-align: center;}#sk-container-id-3 label.sk-toggleable__label-arrow:before {content: \"▸\";float: left;margin-right: 0.25em;color: #696969;}#sk-container-id-3 label.sk-toggleable__label-arrow:hover:before {color: black;}#sk-container-id-3 div.sk-estimator:hover label.sk-toggleable__label-arrow:before {color: black;}#sk-container-id-3 div.sk-toggleable__content {max-height: 0;max-width: 0;overflow: hidden;text-align: left;background-color: #f0f8ff;}#sk-container-id-3 div.sk-toggleable__content pre {margin: 0.2em;color: black;border-radius: 0.25em;background-color: #f0f8ff;}#sk-container-id-3 input.sk-toggleable__control:checked~div.sk-toggleable__content {max-height: 200px;max-width: 100%;overflow: auto;}#sk-container-id-3 input.sk-toggleable__control:checked~label.sk-toggleable__label-arrow:before {content: \"▾\";}#sk-container-id-3 div.sk-estimator input.sk-toggleable__control:checked~label.sk-toggleable__label {background-color: #d4ebff;}#sk-container-id-3 div.sk-label input.sk-toggleable__control:checked~label.sk-toggleable__label {background-color: #d4ebff;}#sk-container-id-3 input.sk-hidden--visually {border: 0;clip: rect(1px 1px 1px 1px);clip: rect(1px, 1px, 1px, 1px);height: 1px;margin: -1px;overflow: hidden;padding: 0;position: absolute;width: 1px;}#sk-container-id-3 div.sk-estimator {font-family: monospace;background-color: #f0f8ff;border: 1px dotted black;border-radius: 0.25em;box-sizing: border-box;margin-bottom: 0.5em;}#sk-container-id-3 div.sk-estimator:hover {background-color: #d4ebff;}#sk-container-id-3 div.sk-parallel-item::after {content: \"\";width: 100%;border-bottom: 1px solid gray;flex-grow: 1;}#sk-container-id-3 div.sk-label:hover label.sk-toggleable__label {background-color: #d4ebff;}#sk-container-id-3 div.sk-serial::before {content: \"\";position: absolute;border-left: 1px solid gray;box-sizing: border-box;top: 0;bottom: 0;left: 50%;z-index: 0;}#sk-container-id-3 div.sk-serial {display: flex;flex-direction: column;align-items: center;background-color: white;padding-right: 0.2em;padding-left: 0.2em;position: relative;}#sk-container-id-3 div.sk-item {position: relative;z-index: 1;}#sk-container-id-3 div.sk-parallel {display: flex;align-items: stretch;justify-content: center;background-color: white;position: relative;}#sk-container-id-3 div.sk-item::before, #sk-container-id-3 div.sk-parallel-item::before {content: \"\";position: absolute;border-left: 1px solid gray;box-sizing: border-box;top: 0;bottom: 0;left: 50%;z-index: -1;}#sk-container-id-3 div.sk-parallel-item {display: flex;flex-direction: column;z-index: 1;position: relative;background-color: white;}#sk-container-id-3 div.sk-parallel-item:first-child::after {align-self: flex-end;width: 50%;}#sk-container-id-3 div.sk-parallel-item:last-child::after {align-self: flex-start;width: 50%;}#sk-container-id-3 div.sk-parallel-item:only-child::after {width: 0;}#sk-container-id-3 div.sk-dashed-wrapped {border: 1px dashed gray;margin: 0 0.4em 0.5em 0.4em;box-sizing: border-box;padding-bottom: 0.4em;background-color: white;}#sk-container-id-3 div.sk-label label {font-family: monospace;font-weight: bold;display: inline-block;line-height: 1.2em;}#sk-container-id-3 div.sk-label-container {text-align: center;}#sk-container-id-3 div.sk-container {/* jupyter's `normalize.less` sets `[hidden] { display: none; }` but bootstrap.min.css set `[hidden] { display: none !important; }` so we also need the `!important` here to be able to override the default hidden behavior on the sphinx rendered scikit-learn.org. See: https://github.com/scikit-learn/scikit-learn/issues/21755 */display: inline-block !important;position: relative;}#sk-container-id-3 div.sk-text-repr-fallback {display: none;}</style><div id=\"sk-container-id-3\" class=\"sk-top-container\"><div class=\"sk-text-repr-fallback\"><pre>LogisticRegression()</pre><b>In a Jupyter environment, please rerun this cell to show the HTML representation or trust the notebook. <br />On GitHub, the HTML representation is unable to render, please try loading this page with nbviewer.org.</b></div><div class=\"sk-container\" hidden><div class=\"sk-item\"><div class=\"sk-estimator sk-toggleable\"><input class=\"sk-toggleable__control sk-hidden--visually\" id=\"sk-estimator-id-3\" type=\"checkbox\" checked><label for=\"sk-estimator-id-3\" class=\"sk-toggleable__label sk-toggleable__label-arrow\">LogisticRegression</label><div class=\"sk-toggleable__content\"><pre>LogisticRegression()</pre></div></div></div></div></div>"
      ],
      "text/plain": [
       "LogisticRegression()"
      ]
     },
     "execution_count": 89,
     "metadata": {},
     "output_type": "execute_result"
    }
   ],
   "source": [
    "# Third model:Logistic Regression\n",
    "from sklearn.linear_model import LogisticRegression\n",
    "\n",
    "lr = LogisticRegression()\n",
    "\n",
    "lr.fit(X_train, y_train)"
   ]
  },
  {
   "cell_type": "code",
   "execution_count": 90,
   "metadata": {},
   "outputs": [
    {
     "data": {
      "text/plain": [
       "array([1., 1., 1., ..., 1., 0., 0.])"
      ]
     },
     "execution_count": 90,
     "metadata": {},
     "output_type": "execute_result"
    }
   ],
   "source": [
    "predict_3 = lr.predict(X_test)\n",
    "predict_3"
   ]
  },
  {
   "cell_type": "code",
   "execution_count": 91,
   "metadata": {},
   "outputs": [
    {
     "data": {
      "image/png": "[encoded data removed]",
      "text/plain": [
       "<Figure size 640x480 with 2 Axes>"
      ]
     },
     "metadata": {},
     "output_type": "display_data"
    },
    {
     "name": "stdout",
     "output_type": "stream",
     "text": [
      "Model Metrics:\n",
      "Accuracy:  0.5600830116260906\n",
      "Precision:  0.5508595725963125\n",
      "Recall:  0.6682378051491841\n",
      "F1 score:  0.603897930480209\n"
     ]
    }
   ],
   "source": [
    "# Confusion matrix and accuracy score\n",
    "from sklearn.metrics import confusion_matrix, accuracy_score, precision_score, recall_score, f1_score, ConfusionMatrixDisplay, classification_report\n",
    "conf_mat = confusion_matrix(y_test, predict_3)\n",
    "\n",
    "# Decision Tree metrics\n",
    "ConfusionMatrixDisplay.from_predictions(y_test, predict_3)\n",
    "plt.show()\n",
    "print(\"Model Metrics:\")\n",
    "print(\"Accuracy: \", accuracy_score(y_test, predict_3))\n",
    "print(\"Precision: \", precision_score(y_test, predict_3))\n",
    "print(\"Recall: \", recall_score(y_test, predict_3))\n",
    "print(\"F1 score: \", f1_score(y_test, predict_3))"
   ]
  },
  {
   "cell_type": "code",
   "execution_count": 92,
   "metadata": {},
   "outputs": [
    {
     "data": {
      "image/png": "[encoded data removed]",
      "text/plain": [
       "<Figure size 640x480 with 2 Axes>"
      ]
     },
     "metadata": {},
     "output_type": "display_data"
    },
    {
     "name": "stdout",
     "output_type": "stream",
     "text": [
      "Model Metrics:\n",
      "Accuracy:  0.9873251065539018\n",
      "Precision:  0.9760674108500196\n",
      "Recall:  0.9992440748810529\n",
      "F1 score:  0.9875197750043945\n"
     ]
    }
   ],
   "source": [
    "#Random Forest\n",
    "from sklearn.ensemble import RandomForestClassifier\n",
    "rf = RandomForestClassifier()\n",
    "rf.fit(X_train, y_train)\n",
    "predict_4 = rf.predict(X_test)\n",
    "ConfusionMatrixDisplay.from_predictions(y_test, predict_4)\n",
    "plt.show()\n",
    "print(\"Model Metrics:\")\n",
    "print(\"Accuracy: \", accuracy_score(y_test, predict_4))\n",
    "print(\"Precision: \", precision_score(y_test, predict_4))\n",
    "print(\"Recall: \", recall_score(y_test, predict_4))\n",
    "print(\"F1 score: \", f1_score(y_test, predict_4))"
   ]
  },
  {
   "cell_type": "markdown",
   "metadata": {},
   "source": [
    "## Model Fine-Tune"
   ]
  },
  {
   "cell_type": "code",
   "execution_count": 93,
   "metadata": {},
   "outputs": [
    {
     "name": "stdout",
     "output_type": "stream",
     "text": [
      "Fitting 5 folds for each of 18 candidates, totalling 90 fits\n",
      "[CV] END ....bootstrap=True, max_features=2, n_estimators=50; total time=   7.3s\n",
      "[CV] END ....bootstrap=True, max_features=2, n_estimators=50; total time=   7.4s\n",
      "[CV] END ....bootstrap=True, max_features=2, n_estimators=50; total time=   7.5s\n",
      "[CV] END ....bootstrap=True, max_features=2, n_estimators=50; total time=   7.6s\n",
      "[CV] END ....bootstrap=True, max_features=2, n_estimators=50; total time=   7.7s\n",
      "[CV] END ...bootstrap=True, max_features=2, n_estimators=100; total time=  14.3s\n",
      "[CV] END ...bootstrap=True, max_features=2, n_estimators=100; total time=  14.4s\n",
      "[CV] END ...bootstrap=True, max_features=2, n_estimators=100; total time=  14.7s\n",
      "[CV] END ...bootstrap=True, max_features=2, n_estimators=100; total time=  14.2s\n",
      "[CV] END ...bootstrap=True, max_features=2, n_estimators=100; total time=  14.2s\n",
      "[CV] END ....bootstrap=True, max_features=4, n_estimators=50; total time=  11.4s\n",
      "[CV] END ....bootstrap=True, max_features=4, n_estimators=50; total time=  11.7s\n",
      "[CV] END ....bootstrap=True, max_features=4, n_estimators=50; total time=  11.8s\n",
      "[CV] END ...bootstrap=True, max_features=2, n_estimators=200; total time=  29.6s\n",
      "[CV] END ....bootstrap=True, max_features=4, n_estimators=50; total time=  11.7s\n",
      "[CV] END ...bootstrap=True, max_features=2, n_estimators=200; total time=  30.4s\n",
      "[CV] END ...bootstrap=True, max_features=2, n_estimators=200; total time=  30.6s\n",
      "[CV] END ....bootstrap=True, max_features=4, n_estimators=50; total time=  12.6s\n",
      "[CV] END ...bootstrap=True, max_features=2, n_estimators=200; total time=  32.0s\n",
      "[CV] END ...bootstrap=True, max_features=2, n_estimators=200; total time=  32.5s\n",
      "[CV] END ...bootstrap=True, max_features=4, n_estimators=100; total time=  25.6s\n",
      "[CV] END ...bootstrap=True, max_features=4, n_estimators=100; total time=  26.0s\n",
      "[CV] END ...bootstrap=True, max_features=4, n_estimators=100; total time=  26.0s\n",
      "[CV] END ...bootstrap=True, max_features=4, n_estimators=100; total time=  26.6s\n",
      "[CV] END ...bootstrap=True, max_features=4, n_estimators=100; total time=  26.7s\n",
      "[CV] END ....bootstrap=True, max_features=6, n_estimators=50; total time=  18.5s\n",
      "[CV] END ....bootstrap=True, max_features=6, n_estimators=50; total time=  18.7s\n",
      "[CV] END ....bootstrap=True, max_features=6, n_estimators=50; total time=  18.5s\n",
      "[CV] END ...bootstrap=True, max_features=4, n_estimators=200; total time=  55.0s\n",
      "[CV] END ...bootstrap=True, max_features=4, n_estimators=200; total time=  54.9s\n",
      "[CV] END ...bootstrap=True, max_features=4, n_estimators=200; total time=  54.9s\n",
      "[CV] END ....bootstrap=True, max_features=6, n_estimators=50; total time=  19.8s\n",
      "[CV] END ....bootstrap=True, max_features=6, n_estimators=50; total time=  20.3s\n",
      "[CV] END ...bootstrap=True, max_features=4, n_estimators=200; total time=  56.0s\n",
      "[CV] END ...bootstrap=True, max_features=4, n_estimators=200; total time=  54.9s\n",
      "[CV] END ...bootstrap=True, max_features=6, n_estimators=100; total time=  38.1s\n",
      "[CV] END ...bootstrap=True, max_features=6, n_estimators=100; total time=  34.8s\n",
      "[CV] END ...bootstrap=True, max_features=6, n_estimators=100; total time=  34.6s\n",
      "[CV] END ...bootstrap=True, max_features=6, n_estimators=100; total time=  34.1s\n",
      "[CV] END ...bootstrap=True, max_features=6, n_estimators=100; total time=  35.0s\n",
      "[CV] END ...bootstrap=False, max_features=2, n_estimators=50; total time=  11.9s\n",
      "[CV] END ...bootstrap=False, max_features=2, n_estimators=50; total time=  11.9s\n",
      "[CV] END ...bootstrap=False, max_features=2, n_estimators=50; total time=  12.0s\n",
      "[CV] END ...bootstrap=False, max_features=2, n_estimators=50; total time=  11.9s\n",
      "[CV] END ...bootstrap=False, max_features=2, n_estimators=50; total time=  11.6s\n",
      "[CV] END ...bootstrap=True, max_features=6, n_estimators=200; total time= 1.2min\n",
      "[CV] END ..bootstrap=False, max_features=2, n_estimators=100; total time=  23.8s\n",
      "[CV] END ..bootstrap=False, max_features=2, n_estimators=100; total time=  23.1s\n",
      "[CV] END ..bootstrap=False, max_features=2, n_estimators=100; total time=  23.6s\n",
      "[CV] END ...bootstrap=True, max_features=6, n_estimators=200; total time= 1.1min\n",
      "[CV] END ...bootstrap=True, max_features=6, n_estimators=200; total time= 1.1min\n",
      "[CV] END ...bootstrap=True, max_features=6, n_estimators=200; total time= 1.1min\n",
      "[CV] END ..bootstrap=False, max_features=2, n_estimators=100; total time=  22.8s\n",
      "[CV] END ..bootstrap=False, max_features=2, n_estimators=100; total time=  24.0s\n",
      "[CV] END ...bootstrap=True, max_features=6, n_estimators=200; total time= 1.1min\n",
      "[CV] END ...bootstrap=False, max_features=4, n_estimators=50; total time=  18.5s\n",
      "[CV] END ...bootstrap=False, max_features=4, n_estimators=50; total time=  18.4s\n",
      "[CV] END ...bootstrap=False, max_features=4, n_estimators=50; total time=  18.6s\n",
      "[CV] END ..bootstrap=False, max_features=2, n_estimators=200; total time=  48.0s\n",
      "[CV] END ..bootstrap=False, max_features=2, n_estimators=200; total time=  47.2s\n",
      "[CV] END ...bootstrap=False, max_features=4, n_estimators=50; total time=  17.8s\n",
      "[CV] END ..bootstrap=False, max_features=2, n_estimators=200; total time=  48.0s\n",
      "[CV] END ...bootstrap=False, max_features=4, n_estimators=50; total time=  18.3s\n",
      "[CV] END ..bootstrap=False, max_features=2, n_estimators=200; total time=  48.0s\n",
      "[CV] END ..bootstrap=False, max_features=2, n_estimators=200; total time=  47.7s\n",
      "[CV] END ..bootstrap=False, max_features=4, n_estimators=100; total time=  36.2s\n",
      "[CV] END ..bootstrap=False, max_features=4, n_estimators=100; total time=  35.8s\n",
      "[CV] END ..bootstrap=False, max_features=4, n_estimators=100; total time=  35.8s\n",
      "[CV] END ..bootstrap=False, max_features=4, n_estimators=100; total time=  36.2s\n",
      "[CV] END ..bootstrap=False, max_features=4, n_estimators=100; total time=  35.5s\n",
      "[CV] END ...bootstrap=False, max_features=6, n_estimators=50; total time=  24.9s\n",
      "[CV] END ...bootstrap=False, max_features=6, n_estimators=50; total time=  25.3s\n",
      "[CV] END ...bootstrap=False, max_features=6, n_estimators=50; total time=  25.7s\n",
      "[CV] END ..bootstrap=False, max_features=4, n_estimators=200; total time= 1.2min\n",
      "[CV] END ..bootstrap=False, max_features=4, n_estimators=200; total time= 1.2min\n",
      "[CV] END ..bootstrap=False, max_features=4, n_estimators=200; total time= 1.2min\n",
      "[CV] END ...bootstrap=False, max_features=6, n_estimators=50; total time=  26.6s\n",
      "[CV] END ...bootstrap=False, max_features=6, n_estimators=50; total time=  26.7s\n",
      "[CV] END ..bootstrap=False, max_features=4, n_estimators=200; total time= 1.3min\n",
      "[CV] END ..bootstrap=False, max_features=4, n_estimators=200; total time= 1.3min\n",
      "[CV] END ..bootstrap=False, max_features=6, n_estimators=100; total time=  52.8s\n",
      "[CV] END ..bootstrap=False, max_features=6, n_estimators=100; total time=  51.8s\n",
      "[CV] END ..bootstrap=False, max_features=6, n_estimators=100; total time=  51.0s\n",
      "[CV] END ..bootstrap=False, max_features=6, n_estimators=100; total time=  49.7s\n",
      "[CV] END ..bootstrap=False, max_features=6, n_estimators=100; total time=  48.1s\n",
      "[CV] END ..bootstrap=False, max_features=6, n_estimators=200; total time= 1.5min\n",
      "[CV] END ..bootstrap=False, max_features=6, n_estimators=200; total time= 1.4min\n",
      "[CV] END ..bootstrap=False, max_features=6, n_estimators=200; total time= 1.4min\n",
      "[CV] END ..bootstrap=False, max_features=6, n_estimators=200; total time= 1.3min\n",
      "[CV] END ..bootstrap=False, max_features=6, n_estimators=200; total time= 1.2min\n"
     ]
    },
    {
     "data": {
      "text/html": [
       "<style>#sk-container-id-4 {color: black;background-color: white;}#sk-container-id-4 pre{padding: 0;}#sk-container-id-4 div.sk-toggleable {background-color: white;}#sk-container-id-4 label.sk-toggleable__label {cursor: pointer;display: block;width: 100%;margin-bottom: 0;padding: 0.3em;box-sizing: border-box;text-align: center;}#sk-container-id-4 label.sk-toggleable__label-arrow:before {content: \"▸\";float: left;margin-right: 0.25em;color: #696969;}#sk-container-id-4 label.sk-toggleable__label-arrow:hover:before {color: black;}#sk-container-id-4 div.sk-estimator:hover label.sk-toggleable__label-arrow:before {color: black;}#sk-container-id-4 div.sk-toggleable__content {max-height: 0;max-width: 0;overflow: hidden;text-align: left;background-color: #f0f8ff;}#sk-container-id-4 div.sk-toggleable__content pre {margin: 0.2em;color: black;border-radius: 0.25em;background-color: #f0f8ff;}#sk-container-id-4 input.sk-toggleable__control:checked~div.sk-toggleable__content {max-height: 200px;max-width: 100%;overflow: auto;}#sk-container-id-4 input.sk-toggleable__control:checked~label.sk-toggleable__label-arrow:before {content: \"▾\";}#sk-container-id-4 div.sk-estimator input.sk-toggleable__control:checked~label.sk-toggleable__label {background-color: #d4ebff;}#sk-container-id-4 div.sk-label input.sk-toggleable__control:checked~label.sk-toggleable__label {background-color: #d4ebff;}#sk-container-id-4 input.sk-hidden--visually {border: 0;clip: rect(1px 1px 1px 1px);clip: rect(1px, 1px, 1px, 1px);height: 1px;margin: -1px;overflow: hidden;padding: 0;position: absolute;width: 1px;}#sk-container-id-4 div.sk-estimator {font-family: monospace;background-color: #f0f8ff;border: 1px dotted black;border-radius: 0.25em;box-sizing: border-box;margin-bottom: 0.5em;}#sk-container-id-4 div.sk-estimator:hover {background-color: #d4ebff;}#sk-container-id-4 div.sk-parallel-item::after {content: \"\";width: 100%;border-bottom: 1px solid gray;flex-grow: 1;}#sk-container-id-4 div.sk-label:hover label.sk-toggleable__label {background-color: #d4ebff;}#sk-container-id-4 div.sk-serial::before {content: \"\";position: absolute;border-left: 1px solid gray;box-sizing: border-box;top: 0;bottom: 0;left: 50%;z-index: 0;}#sk-container-id-4 div.sk-serial {display: flex;flex-direction: column;align-items: center;background-color: white;padding-right: 0.2em;padding-left: 0.2em;position: relative;}#sk-container-id-4 div.sk-item {position: relative;z-index: 1;}#sk-container-id-4 div.sk-parallel {display: flex;align-items: stretch;justify-content: center;background-color: white;position: relative;}#sk-container-id-4 div.sk-item::before, #sk-container-id-4 div.sk-parallel-item::before {content: \"\";position: absolute;border-left: 1px solid gray;box-sizing: border-box;top: 0;bottom: 0;left: 50%;z-index: -1;}#sk-container-id-4 div.sk-parallel-item {display: flex;flex-direction: column;z-index: 1;position: relative;background-color: white;}#sk-container-id-4 div.sk-parallel-item:first-child::after {align-self: flex-end;width: 50%;}#sk-container-id-4 div.sk-parallel-item:last-child::after {align-self: flex-start;width: 50%;}#sk-container-id-4 div.sk-parallel-item:only-child::after {width: 0;}#sk-container-id-4 div.sk-dashed-wrapped {border: 1px dashed gray;margin: 0 0.4em 0.5em 0.4em;box-sizing: border-box;padding-bottom: 0.4em;background-color: white;}#sk-container-id-4 div.sk-label label {font-family: monospace;font-weight: bold;display: inline-block;line-height: 1.2em;}#sk-container-id-4 div.sk-label-container {text-align: center;}#sk-container-id-4 div.sk-container {/* jupyter's `normalize.less` sets `[hidden] { display: none; }` but bootstrap.min.css set `[hidden] { display: none !important; }` so we also need the `!important` here to be able to override the default hidden behavior on the sphinx rendered scikit-learn.org. See: https://github.com/scikit-learn/scikit-learn/issues/21755 */display: inline-block !important;position: relative;}#sk-container-id-4 div.sk-text-repr-fallback {display: none;}</style><div id=\"sk-container-id-4\" class=\"sk-top-container\"><div class=\"sk-text-repr-fallback\"><pre>GridSearchCV(cv=5, estimator=RandomForestClassifier(), n_jobs=-1,\n",
       "             param_grid={&#x27;bootstrap&#x27;: [True, False], &#x27;max_features&#x27;: [2, 4, 6],\n",
       "                         &#x27;n_estimators&#x27;: [50, 100, 200]},\n",
       "             scoring=&#x27;accuracy&#x27;, verbose=2)</pre><b>In a Jupyter environment, please rerun this cell to show the HTML representation or trust the notebook. <br />On GitHub, the HTML representation is unable to render, please try loading this page with nbviewer.org.</b></div><div class=\"sk-container\" hidden><div class=\"sk-item sk-dashed-wrapped\"><div class=\"sk-label-container\"><div class=\"sk-label sk-toggleable\"><input class=\"sk-toggleable__control sk-hidden--visually\" id=\"sk-estimator-id-4\" type=\"checkbox\" ><label for=\"sk-estimator-id-4\" class=\"sk-toggleable__label sk-toggleable__label-arrow\">GridSearchCV</label><div class=\"sk-toggleable__content\"><pre>GridSearchCV(cv=5, estimator=RandomForestClassifier(), n_jobs=-1,\n",
       "             param_grid={&#x27;bootstrap&#x27;: [True, False], &#x27;max_features&#x27;: [2, 4, 6],\n",
       "                         &#x27;n_estimators&#x27;: [50, 100, 200]},\n",
       "             scoring=&#x27;accuracy&#x27;, verbose=2)</pre></div></div></div><div class=\"sk-parallel\"><div class=\"sk-parallel-item\"><div class=\"sk-item\"><div class=\"sk-label-container\"><div class=\"sk-label sk-toggleable\"><input class=\"sk-toggleable__control sk-hidden--visually\" id=\"sk-estimator-id-5\" type=\"checkbox\" ><label for=\"sk-estimator-id-5\" class=\"sk-toggleable__label sk-toggleable__label-arrow\">estimator: RandomForestClassifier</label><div class=\"sk-toggleable__content\"><pre>RandomForestClassifier()</pre></div></div></div><div class=\"sk-serial\"><div class=\"sk-item\"><div class=\"sk-estimator sk-toggleable\"><input class=\"sk-toggleable__control sk-hidden--visually\" id=\"sk-estimator-id-6\" type=\"checkbox\" ><label for=\"sk-estimator-id-6\" class=\"sk-toggleable__label sk-toggleable__label-arrow\">RandomForestClassifier</label><div class=\"sk-toggleable__content\"><pre>RandomForestClassifier()</pre></div></div></div></div></div></div></div></div></div></div>"
      ],
      "text/plain": [
       "GridSearchCV(cv=5, estimator=RandomForestClassifier(), n_jobs=-1,\n",
       "             param_grid={'bootstrap': [True, False], 'max_features': [2, 4, 6],\n",
       "                         'n_estimators': [50, 100, 200]},\n",
       "             scoring='accuracy', verbose=2)"
      ]
     },
     "execution_count": 93,
     "metadata": {},
     "output_type": "execute_result"
    }
   ],
   "source": [
    "from sklearn.model_selection import GridSearchCV\n",
    "\n",
    "\n",
    "param_grid = {\n",
    "    'n_estimators': [50, 100, 200],\n",
    "    'max_features': [2, 4, 6],\n",
    "    'bootstrap': [True, False],\n",
    "}\n",
    "\n",
    "forest_class = RandomForestClassifier()\n",
    "\n",
    "grid_search = GridSearchCV(forest_class, param_grid, cv=5,\n",
    "                          scoring = 'accuracy', verbose = 2, n_jobs = -1)\n",
    "\n",
    "grid_search.fit(X_train, y_train)"
   ]
  },
  {
   "cell_type": "code",
   "execution_count": 94,
   "metadata": {},
   "outputs": [
    {
     "data": {
      "text/plain": [
       "{'bootstrap': True, 'max_features': 2, 'n_estimators': 200}"
      ]
     },
     "execution_count": 94,
     "metadata": {},
     "output_type": "execute_result"
    }
   ],
   "source": [
    "grid_search.best_params_"
   ]
  },
  {
   "cell_type": "code",
   "execution_count": 95,
   "metadata": {},
   "outputs": [
    {
     "data": {
      "text/plain": [
       "array([0., 1., 1., ..., 0., 1., 0.])"
      ]
     },
     "execution_count": 95,
     "metadata": {},
     "output_type": "execute_result"
    }
   ],
   "source": [
    "final_model = grid_search.best_estimator_\n",
    "\n",
    "final_predictions = final_model.predict(X_test)\n",
    "final_predictions"
   ]
  },
  {
   "cell_type": "code",
   "execution_count": 96,
   "metadata": {},
   "outputs": [
    {
     "data": {
      "image/png": "[encoded data removed]",
      "text/plain": [
       "<Figure size 640x480 with 2 Axes>"
      ]
     },
     "metadata": {},
     "output_type": "display_data"
    },
    {
     "name": "stdout",
     "output_type": "stream",
     "text": [
      "Final Model Metrics:\n",
      "Accuracy:  0.9873027916006516\n",
      "Precision:  0.9758183554745159\n",
      "Recall:  0.9994664057983903\n",
      "F1 score:  0.9875008237594183\n"
     ]
    }
   ],
   "source": [
    "# Final Model\n",
    "ConfusionMatrixDisplay.from_predictions(y_test, final_predictions)\n",
    "plt.show()\n",
    "print(\"Final Model Metrics:\")\n",
    "print(\"Accuracy: \", accuracy_score(y_test, final_predictions))\n",
    "print(\"Precision: \", precision_score(y_test, final_predictions))\n",
    "print(\"Recall: \", recall_score(y_test, final_predictions))\n",
    "print(\"F1 score: \", f1_score(y_test, final_predictions))"
   ]
  },
  {
   "cell_type": "code",
   "execution_count": 97,
   "metadata": {},
   "outputs": [
    {
     "data": {
      "text/plain": [
       "['model.joblib']"
      ]
     },
     "execution_count": 97,
     "metadata": {},
     "output_type": "execute_result"
    }
   ],
   "source": [
    "import joblib\n",
    "\n",
    "joblib.dump(final_model, 'model.joblib')"
   ]
  },
  {
   "cell_type": "code",
   "execution_count": 141,
   "metadata": {},
   "outputs": [
    {
     "name": "stdout",
     "output_type": "stream",
     "text": [
      "[1.]\n"
     ]
    }
   ],
   "source": [
    "import pandas as pd\n",
    "import joblib\n",
    "\n",
    "model = joblib.load('model.joblib')\n",
    "\n",
    "\n",
    "input_data = pd.DataFrame({\n",
    "    'age': '55-64',  \n",
    "    'loan_amount': [76500.0],\n",
    "    'Upfront_charges': [3224.996127],\n",
    "    'term': [360.0],\n",
    "    'property_value': [108000.0],\n",
    "    'income': [1555.891060],\n",
    "    'Credit_Score': [803.259917],\n",
    "    'LTV': [65.88983051],\n",
    "    'dtir1': [36]\n",
    "})\n",
    "\n",
    "input_data['age'] = input_data['age'].map(age_mapping)\n",
    "\n",
    "predictions = model.predict(input_data)\n",
    "\n",
    "print(predictions)\n"
   ]
  }
 ],
 "metadata": {
  "kernelspec": {
   "display_name": "base",
   "language": "python",
   "name": "python3"
  },
  "language_info": {
   "codemirror_mode": {
    "name": "ipython",
    "version": 3
   },
   "file_extension": ".py",
   "mimetype": "text/x-python",
   "name": "python",
   "nbconvert_exporter": "python",
   "pygments_lexer": "ipython3",
   "version": "3.11.4"
  }
 },
 "nbformat": 4,
 "nbformat_minor": 2
}
